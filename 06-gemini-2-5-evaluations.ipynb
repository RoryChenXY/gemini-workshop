{
 "cells": [
  {
   "cell_type": "markdown",
   "id": "e166a39d",
   "metadata": {},
   "source": [
    "# Compare Gemini 2.5 Models\n",
    "\n",
    "<a target=\"_blank\" href=\"https://colab.research.google.com/github/patrickloeber/workshop-build-with-gemini/blob/main/06-gemini-2-5-evaluations.ipynb\"><img src=\"https://colab.research.google.com/assets/colab-badge.svg\" alt=\"Open In Colab\"/></a>\n",
    "\n",
    "### Notebook overview\n",
    "\n",
    "In this notebook we'll compare Gemini 2.5 Pro, Gemini 2.5 Flash, and Gemini 2.5 Flash-Lite on a few tasks, with and without thinking.\n",
    "\n",
    "- Run prompt with all models\n",
    "- 🔢Calculate tokens\n",
    "- 💰Calculate prices\n",
    "- 🚀Calculate speed\n",
    "- 🤔Apply thinking config\n",
    "- 💪Measure PDF extraction accuracy\n",
    "- 📊Plot the evals\n",
    "- 🚄Calculate TTFT with streaming\n",
    "- Test 1: PDF Invoice data extraction\n",
    "- Test 2: Chat with large PDF\n",
    "- Test 3: Generate an SVG of a pelican riding a bicycle\n",
    "- TBD: (Test 4: audio transcription)\n",
    "\n",
    "### High level 2.5 models overview:\n",
    "\n",
    "![Gemini 2.5 overview](data/gemini-2-5-overview.png)\n",
    "\n",
    "### Gemini 2.5 benchmarks:\n",
    "\n",
    "![Gemini 2.5 benchmarks](https://storage.googleapis.com/gweb-uniblog-publish-prod/original_images/gemini_2-5_benchmarks_margin_light2x_1.gif)"
   ]
  },
  {
   "cell_type": "markdown",
   "id": "4b4d8322",
   "metadata": {},
   "source": [
    "## Setup\n",
    "\n",
    "Get a free API key in the [Google AI Studio](https://aistudio.google.com/apikey) and set up the [Google Gen AI Python SDK](https://github.com/googleapis/python-genai)"
   ]
  },
  {
   "cell_type": "code",
   "execution_count": 24,
   "id": "41951e93",
   "metadata": {},
   "outputs": [
    {
     "name": "stdout",
     "output_type": "stream",
     "text": [
      "\n",
      "\u001b[1m[\u001b[0m\u001b[34;49mnotice\u001b[0m\u001b[1;39;49m]\u001b[0m\u001b[39;49m A new release of pip is available: \u001b[0m\u001b[31;49m25.0\u001b[0m\u001b[39;49m -> \u001b[0m\u001b[32;49m25.1.1\u001b[0m\n",
      "\u001b[1m[\u001b[0m\u001b[34;49mnotice\u001b[0m\u001b[1;39;49m]\u001b[0m\u001b[39;49m To update, run: \u001b[0m\u001b[32;49mpip install --upgrade pip\u001b[0m\n",
      "Note: you may need to restart the kernel to use updated packages.\n"
     ]
    }
   ],
   "source": [
    "%pip install -U -q google-genai datasets matplotlib Pillow python-dotenv"
   ]
  },
  {
   "cell_type": "code",
   "execution_count": 7,
   "id": "48a5c125",
   "metadata": {},
   "outputs": [],
   "source": [
    "import io\n",
    "import os\n",
    "import sys\n",
    "import json\n",
    "from pathlib import Path\n",
    "import statistics\n",
    "import time\n",
    "from PIL import Image # pip install Pillow"
   ]
  },
  {
   "cell_type": "code",
   "execution_count": 8,
   "id": "fd76f970",
   "metadata": {},
   "outputs": [],
   "source": [
    "from google import genai  # pip install -U google-genai\n",
    "from google.genai import types\n",
    "\n",
    "if 'google.colab' in sys.modules:\n",
    "    from google.colab import userdata\n",
    "    GEMINI_API_KEY = userdata.get('GEMINI_API_KEY')\n",
    "else:\n",
    "    from dotenv import load_dotenv; load_dotenv()\n",
    "    GEMINI_API_KEY = os.getenv('GEMINI_API_KEY')\n",
    "\n",
    "client = genai.Client(api_key=GEMINI_API_KEY)"
   ]
  },
  {
   "cell_type": "code",
   "execution_count": 1,
   "id": "8454f544",
   "metadata": {},
   "outputs": [],
   "source": [
    "GEMINI_2_5_PRO = \"gemini-2.5-pro\"  # paid tier\n",
    "GEMINI_2_5_FLASH = \"gemini-2.5-flash\"\n",
    "GEMINI_2_5_FLASH_LITE = \"gemini-2.5-flash-lite-preview-06-17\""
   ]
  },
  {
   "cell_type": "markdown",
   "id": "fb7f35b5",
   "metadata": {},
   "source": [
    "## Test 1: PDF Invoice data extraction"
   ]
  },
  {
   "cell_type": "code",
   "execution_count": 3,
   "id": "83bb3dd4",
   "metadata": {},
   "outputs": [
    {
     "name": "stderr",
     "output_type": "stream",
     "text": [
      "/Users/patloeber/code/workshop-build-with-gemini/venv/lib/python3.13/site-packages/tqdm/auto.py:21: TqdmWarning: IProgress not found. Please update jupyter and ipywidgets. See https://ipywidgets.readthedocs.io/en/stable/user_install.html\n",
      "  from .autonotebook import tqdm as notebook_tqdm\n"
     ]
    }
   ],
   "source": [
    "from datasets import load_dataset\n",
    "\n",
    "ds = load_dataset(\"katanaml-org/invoices-donut-data-v1\")"
   ]
  },
  {
   "cell_type": "code",
   "execution_count": 4,
   "id": "e24ae7b5",
   "metadata": {},
   "outputs": [
    {
     "data": {
      "text/plain": [
       "Dataset({\n",
       "    features: ['image', 'ground_truth'],\n",
       "    num_rows: 26\n",
       "})"
      ]
     },
     "execution_count": 4,
     "metadata": {},
     "output_type": "execute_result"
    }
   ],
   "source": [
    "ds[\"test\"]"
   ]
  },
  {
   "cell_type": "markdown",
   "id": "521ca90e",
   "metadata": {},
   "source": [
    "The dataset contains the invoices in JPEG format. Let's compare using it in a prompt as JPEG and PDF so we'll see it's the same number of tokens and same result:"
   ]
  },
  {
   "cell_type": "code",
   "execution_count": null,
   "id": "6cdf71d2",
   "metadata": {},
   "outputs": [],
   "source": [
    "image = ds[\"test\"][0][\"image\"]\n",
    "\n",
    "image.save(\"invoice_01.pdf\", \"PDF\" ,resolution=100.0)\n",
    "image.save(\"invoive_01.jpg\", \"JPEG\")\n",
    "\n",
    "buffer = io.BytesIO()\n",
    "image.save(buffer, format=\"JPEG\")\n",
    "buffer.seek(0)\n",
    "image_bytes = buffer.read()"
   ]
  },
  {
   "cell_type": "code",
   "execution_count": 10,
   "id": "6062c05a",
   "metadata": {},
   "outputs": [],
   "source": [
    "file_pdf = client.files.upload(file=\"invoice_01.pdf\")\n",
    "file_jpg = client.files.upload(file=\"invoice_01.jpg\")"
   ]
  },
  {
   "cell_type": "code",
   "execution_count": 13,
   "id": "ce2405ea",
   "metadata": {},
   "outputs": [],
   "source": [
    "response1 = client.models.generate_content(\n",
    "    model=GEMINI_2_5_FLASH,\n",
    "    contents=[\"Extract invoice number, invoice date, and total gross worth\", file_pdf]\n",
    ")"
   ]
  },
  {
   "cell_type": "code",
   "execution_count": 18,
   "id": "bcd1fd7a",
   "metadata": {},
   "outputs": [
    {
     "name": "stdout",
     "output_type": "stream",
     "text": [
      "*   **Invoice number**: 97159829\n",
      "*   **Invoice date**: 09/18/2015\n",
      "*   **Total gross worth**: $978.12\n",
      "[ModalityTokenCount(modality=<MediaModality.TEXT: 'TEXT'>, token_count=12), ModalityTokenCount(modality=<MediaModality.DOCUMENT: 'DOCUMENT'>, token_count=258)]\n"
     ]
    }
   ],
   "source": [
    "print(response1.text)\n",
    "print(response1.usage_metadata.prompt_tokens_details)"
   ]
  },
  {
   "cell_type": "code",
   "execution_count": null,
   "id": "10bbd8ed",
   "metadata": {},
   "outputs": [],
   "source": [
    "response2 = client.models.generate_content(\n",
    "    model=GEMINI_2_5_FLASH,\n",
    "    contents=[\"Extract invoice number, invoice date, and total gross worth\", file_jpg]\n",
    ")"
   ]
  },
  {
   "cell_type": "code",
   "execution_count": 21,
   "id": "59a2ec14",
   "metadata": {},
   "outputs": [
    {
     "name": "stdout",
     "output_type": "stream",
     "text": [
      "```json\n",
      "{\n",
      "  \"invoice_number\": \"97159829\",\n",
      "  \"invoice_date\": \"09/18/2015\",\n",
      "  \"total_gross_worth\": \"$ 978,12\"\n",
      "}\n",
      "```\n",
      "[ModalityTokenCount(modality=<MediaModality.TEXT: 'TEXT'>, token_count=12), ModalityTokenCount(modality=<MediaModality.IMAGE: 'IMAGE'>, token_count=258)]\n"
     ]
    }
   ],
   "source": [
    "print(response2.text)\n",
    "print(response2.usage_metadata.prompt_tokens_details)"
   ]
  },
  {
   "cell_type": "markdown",
   "id": "47c5ca98",
   "metadata": {},
   "source": [
    "Let's also see how to do it as inline data upload instead of using the Files API:"
   ]
  },
  {
   "cell_type": "code",
   "execution_count": 31,
   "id": "e637af41",
   "metadata": {},
   "outputs": [
    {
     "name": "stdout",
     "output_type": "stream",
     "text": [
      "Here's the extracted information:\n",
      "\n",
      "*   **Invoice number:** 97159829\n",
      "*   **Invoice date:** 09/18/2015\n",
      "*   **Total gross worth:** $978.12\n",
      "[ModalityTokenCount(modality=<MediaModality.TEXT: 'TEXT'>, token_count=12), ModalityTokenCount(modality=<MediaModality.IMAGE: 'IMAGE'>, token_count=258)]\n"
     ]
    }
   ],
   "source": [
    "image_part = types.Part.from_bytes(data=image_bytes, mime_type=\"image/jpeg\")\n",
    "\n",
    "response3 = client.models.generate_content(\n",
    "    model=GEMINI_2_5_FLASH,\n",
    "    contents=[\"Extract invoice number, invoice date, and total gross worth\", image_part]\n",
    ")\n",
    "\n",
    "print(response3.text)\n",
    "print(response3.usage_metadata.prompt_tokens_details)"
   ]
  },
  {
   "cell_type": "markdown",
   "id": "0fa255ac",
   "metadata": {},
   "source": [
    "Let's look at the ground truth and define a more complex schema to extract:"
   ]
  },
  {
   "cell_type": "code",
   "execution_count": 79,
   "id": "26b8f32b",
   "metadata": {},
   "outputs": [
    {
     "data": {
      "text/plain": [
       "{'header': {'invoice_no': '97159829',\n",
       "  'invoice_date': '09/18/2015',\n",
       "  'seller': 'Bradley-Andrade 9879 Elizabeth Common Lake Jonathan, RI 12335',\n",
       "  'client': 'Castro PLC Unit 9678 Box 9664 DPO AP 69387',\n",
       "  'seller_tax_id': '985-73-8194',\n",
       "  'client_tax_id': '994-72-1270',\n",
       "  'iban': 'GB81LZWO32519172531418'},\n",
       " 'items': [{'item_desc': '12\" Marble Lapis Inlay Chess Table Top With 2\" Pieces & 15\" Wooden Stand W537',\n",
       "   'item_qty': '2,00',\n",
       "   'item_net_price': '444,60',\n",
       "   'item_net_worth': '889,20',\n",
       "   'item_vat': '10%',\n",
       "   'item_gross_worth': '978,12'}],\n",
       " 'summary': {'total_net_worth': '$ 889,20',\n",
       "  'total_vat': '$ 88,92',\n",
       "  'total_gross_worth': '$ 978,12'}}"
      ]
     },
     "execution_count": 79,
     "metadata": {},
     "output_type": "execute_result"
    }
   ],
   "source": [
    "json.loads(ds[\"test\"][0][\"ground_truth\"])[\"gt_parse\"]"
   ]
  },
  {
   "cell_type": "code",
   "execution_count": 131,
   "id": "e0373334",
   "metadata": {},
   "outputs": [],
   "source": [
    "from pydantic import BaseModel, Field\n",
    "\n",
    "class InvoiceHeader(BaseModel):\n",
    "    invoice_no: str = Field(description=\"Invoice number\")\n",
    "    invoice_date: str = Field(description=\"Invoice date\")\n",
    "    seller: str = Field(description=\"Seller address\")\n",
    "    client: str = Field(description=\"Client address\")\n",
    "    seller_tax_id: str = Field(description=\"Seller Tax Id\")\n",
    "    client_tax_id: str = Field(description=\"Client Tax Id\")\n",
    "    iban: str = Field(description=\"IBAN\")\n",
    "\n",
    "class InvoiceItem(BaseModel):\n",
    "    item_desc: str = Field(description=\"Ttem description\")\n",
    "    item_qty: str = Field(description=\"Item quantity, e.g. 'x,xx'\")\n",
    "    item_net_price: str = Field(description=\"Item net price\")\n",
    "    item_net_worth: str = Field(description=\"Ttem net worth\")\n",
    "    item_vat: str = Field(description=\"Item VAT, e.g. 'xx%'\")\n",
    "    item_gross_worth: str = Field(description=\"Item gross worth\")\n",
    "\n",
    "class InvoiceSummary(BaseModel):\n",
    "    total_net_worth: str = Field(description=\"Total net worth, e.g '$ xx,xx'\")\n",
    "    total_vat: str = Field(description=\"Total vat, e.g '$ xx,xx'\")\n",
    "    total_gross_worth: str = Field(description=\"Total gross worth, e.g '$ xx,xx'\")\n",
    "\n",
    "\n",
    "class Invoice(BaseModel):\n",
    "    header: InvoiceHeader = Field(description=\"Invoice header\")\n",
    "    items: list[InvoiceItem] = Field(description=\"Invoice items\")\n",
    "    summary: InvoiceSummary = Field(description=\"Invoice summary\")"
   ]
  },
  {
   "cell_type": "markdown",
   "id": "164b19e5",
   "metadata": {},
   "source": [
    "Extract structured data:"
   ]
  },
  {
   "cell_type": "code",
   "execution_count": null,
   "id": "4936574c",
   "metadata": {},
   "outputs": [],
   "source": [
    "prompt = \"Extract the structured data from the following file\"\n",
    "\n",
    "response = client.models.generate_content(\n",
    "    model=GEMINI_2_5_FLASH,\n",
    "    contents=[prompt, image_part],\n",
    "    config={\n",
    "        \"response_mime_type\": \"application/json\",\n",
    "        \"response_schema\": Invoice,\n",
    "        \"temperature\": 0\n",
    "    }\n",
    ")"
   ]
  },
  {
   "cell_type": "code",
   "execution_count": 133,
   "id": "52b70766",
   "metadata": {},
   "outputs": [
    {
     "data": {
      "text/plain": [
       "{'header': {'invoice_no': '97159829',\n",
       "  'invoice_date': '09/18/2015',\n",
       "  'seller': 'Bradley-Andrade 9879 Elizabeth Common Lake Jonathan, RI 12335',\n",
       "  'client': 'Castro PLC Unit 9678 Box 9664 DPO AP 69387',\n",
       "  'seller_tax_id': '985-73-8194',\n",
       "  'client_tax_id': '994-72-1270',\n",
       "  'iban': 'GB81LZWO32519172531418'},\n",
       " 'items': [{'item_desc': '12\" Marble Lapis Inlay Chess Table Top With 2\" Pieces & 15\" Wooden Stand W537',\n",
       "   'item_qty': '2,00',\n",
       "   'item_net_price': '444,60',\n",
       "   'item_net_worth': '889,20',\n",
       "   'item_vat': '10%',\n",
       "   'item_gross_worth': '978,12'}],\n",
       " 'summary': {'total_net_worth': '$ 889,20',\n",
       "  'total_vat': '$ 88,92',\n",
       "  'total_gross_worth': '$ 978,12'}}"
      ]
     },
     "execution_count": 133,
     "metadata": {},
     "output_type": "execute_result"
    }
   ],
   "source": [
    "response.parsed.model_dump()"
   ]
  },
  {
   "cell_type": "markdown",
   "id": "e26f62f5",
   "metadata": {},
   "source": [
    "### 💰Calculate prices"
   ]
  },
  {
   "cell_type": "code",
   "execution_count": 11,
   "id": "a9cb4c95",
   "metadata": {},
   "outputs": [],
   "source": [
    "prices = {\n",
    "    GEMINI_2_5_FLASH_LITE: (0.10, 0.40),\n",
    "    GEMINI_2_5_FLASH: (0.30, 2.50),\n",
    "    GEMINI_2_5_PRO: (1.25, 10.0)  # only for <200K tokens\n",
    "}\n",
    "# ! THIS TABLE IS ONLY FOR TEXT/IMAGE/VIDEO. AUDIO PRICE IS NOT CONSIDERED\n",
    "\n",
    "MIL = 1_000_000\n",
    "\n",
    "def calc_cost(model, usage_metadata):\n",
    "    p_in, p_out = prices[model][0], prices[model][1]\n",
    "    thought_tokens = usage_metadata.thoughts_token_count if usage_metadata.thoughts_token_count else 0\n",
    "    total_cost = (usage_metadata.prompt_token_count * p_in + (usage_metadata.candidates_token_count + thought_tokens) * p_out) / MIL\n",
    "    return total_cost"
   ]
  },
  {
   "cell_type": "code",
   "execution_count": 135,
   "id": "49eb989f",
   "metadata": {},
   "outputs": [
    {
     "data": {
      "text/plain": [
       "GenerateContentResponseUsageMetadata(cache_tokens_details=None, cached_content_token_count=None, candidates_token_count=362, candidates_tokens_details=None, prompt_token_count=267, prompt_tokens_details=[ModalityTokenCount(modality=<MediaModality.TEXT: 'TEXT'>, token_count=9), ModalityTokenCount(modality=<MediaModality.IMAGE: 'IMAGE'>, token_count=258)], thoughts_token_count=279, tool_use_prompt_token_count=None, tool_use_prompt_tokens_details=None, total_token_count=908, traffic_type=None)"
      ]
     },
     "execution_count": 135,
     "metadata": {},
     "output_type": "execute_result"
    }
   ],
   "source": [
    "response.usage_metadata"
   ]
  },
  {
   "cell_type": "code",
   "execution_count": 134,
   "id": "783162c9",
   "metadata": {},
   "outputs": [
    {
     "name": "stdout",
     "output_type": "stream",
     "text": [
      "Cost for 1 PDF page:     $0.00168260 , or 0.17¢\n",
      "Cost for 1000 PDF pages: $1.68\n"
     ]
    }
   ],
   "source": [
    "cost = calc_cost(GEMINI_2_5_FLASH, response.usage_metadata)\n",
    "print(f\"Cost for 1 PDF page:     ${cost:.8f} , or {cost*100:.2f}¢\")\n",
    "print(f\"Cost for 1000 PDF pages: ${cost * 1000:.2f}\")\n"
   ]
  },
  {
   "cell_type": "markdown",
   "id": "c4434530",
   "metadata": {},
   "source": [
    "### 💪Measure PDF extraction accuracy"
   ]
  },
  {
   "cell_type": "code",
   "execution_count": 150,
   "id": "656ff8e9",
   "metadata": {},
   "outputs": [],
   "source": [
    "def accuracy(predicted, ground_truth):\n",
    "    correct = 0\n",
    "    num_checked_items = 0\n",
    "    incorrect = []\n",
    "    for k1, k2 in zip(predicted[\"header\"], ground_truth[\"header\"]):\n",
    "        num_checked_items += 1\n",
    "        if predicted[\"header\"][k1].replace(\"\\n\", \"\").replace(\" \", \"\") == ground_truth[\"header\"][k2].replace(\"\\n\", \"\").replace(\" \", \"\"):\n",
    "            correct += 1\n",
    "        else:\n",
    "            incorrect.append((k1, predicted[\"header\"][k1],ground_truth[\"header\"][k2]))\n",
    "        \n",
    "\n",
    "    for k1, k2 in zip(predicted[\"summary\"], ground_truth[\"summary\"]):\n",
    "        num_checked_items += 1\n",
    "        if predicted[\"summary\"][k1].replace(\" \", \"\").replace(\"$\", \"\").replace(\"%\", \"\") == ground_truth[\"summary\"][k2].replace(\" \", \"\").replace(\"$\", \"\").replace(\"%\", \"\"):\n",
    "            correct += 1\n",
    "        else:\n",
    "            incorrect.append((k1, predicted[\"summary\"][k1], ground_truth[\"summary\"][k2]))\n",
    "\n",
    "    for item1, item2 in zip(predicted[\"items\"], ground_truth[\"items\"]):\n",
    "        for k1, k2 in zip(item1, item2):\n",
    "            num_checked_items += 1\n",
    "            if item1[k1].replace(\" \", \"\").replace(\"%\", \"\") == item2[k2].replace(\" \", \"\").replace(\"%\", \"\"):\n",
    "                correct += 1\n",
    "            else:\n",
    "                incorrect.append((k1, item1[k1], item2[k2]))\n",
    "  \n",
    "    return (correct / num_checked_items), incorrect"
   ]
  },
  {
   "cell_type": "code",
   "execution_count": 136,
   "id": "d5d3e6b6",
   "metadata": {},
   "outputs": [
    {
     "name": "stdout",
     "output_type": "stream",
     "text": [
      "1.0\n",
      "[]\n"
     ]
    }
   ],
   "source": [
    "acc, incorrect = accuracy(response.parsed.model_dump(), json.loads(ds[\"test\"][0][\"ground_truth\"])[\"gt_parse\"])\n",
    "print(acc)\n",
    "print(incorrect)"
   ]
  },
  {
   "cell_type": "markdown",
   "id": "c32aca5d",
   "metadata": {},
   "source": [
    "### 🚀Calculate speed and apply thinking config🤔"
   ]
  },
  {
   "cell_type": "code",
   "execution_count": null,
   "id": "6ad63748",
   "metadata": {},
   "outputs": [],
   "source": [
    "def extract_info(model, image: Image, thinking_budget=-1):\n",
    "    prompt = \"Extract the structured data from the following file\"\n",
    "\n",
    "    buffer = io.BytesIO()\n",
    "    image.save(buffer, format=\"JPEG\")\n",
    "    buffer.seek(0)\n",
    "    image_part = types.Part.from_bytes(data=buffer.read(), mime_type=\"image/jpeg\")\n",
    "\n",
    "    # We only want the time from running the prompt:\n",
    "    start = time.time()\n",
    "\n",
    "    response = client.models.generate_content(\n",
    "        model=model,\n",
    "        contents=[prompt, image_part],\n",
    "        config={\n",
    "            \"response_mime_type\": \"application/json\",\n",
    "            \"response_schema\": Invoice,\n",
    "            \"thinking_config\": {\"thinking_budget\": thinking_budget}\n",
    "        }\n",
    "    )\n",
    "    elapsed = time.time() - start\n",
    "\n",
    "    return response, elapsed"
   ]
  },
  {
   "cell_type": "markdown",
   "id": "93998706",
   "metadata": {},
   "source": [
    "###  Put all together and run evals"
   ]
  },
  {
   "cell_type": "code",
   "execution_count": 221,
   "id": "071f1ce8",
   "metadata": {},
   "outputs": [],
   "source": [
    "def run_eval(model, thinking_budget, n=5):\n",
    "    responses = []\n",
    "    accs = []\n",
    "    costs = []\n",
    "    incorrects = []\n",
    "    total_time = 0\n",
    "    for sample in ds[\"test\"].take(n):\n",
    "        # time.sleep(2)\n",
    "\n",
    "        response, elapsed = extract_info(model, sample[\"image\"], thinking_budget)\n",
    "        total_time += elapsed\n",
    "\n",
    "        acc, incorrect = accuracy(response.parsed.model_dump(), json.loads(sample[\"ground_truth\"])[\"gt_parse\"])\n",
    "\n",
    "        cost = calc_cost(model, response.usage_metadata)\n",
    "\n",
    "        responses.append(response)\n",
    "        accs.append(acc)\n",
    "        costs.append(cost)\n",
    "        if incorrect:\n",
    "            incorrects.extend(incorrect)\n",
    "\n",
    "    avg_cost = statistics.mean(costs)\n",
    "    avg_acc = statistics.mean(accs)\n",
    "    avg_time = total_time/len(accs)\n",
    "\n",
    "    print(f\"Evals for {model} with {thinking_budget = }, {n = }:\\n\")\n",
    "    print(f\"Avg accuracy: {avg_acc:.2f}\")\n",
    "    print(f\"Avg time: {avg_time:.2f}s\")\n",
    "    print(f\"Cost for 1 PDF page:     ${avg_cost:.8f} , or {avg_cost*100:.2f}¢\")\n",
    "    print(f\"Cost for 1000 PDF pages: ${avg_cost * 1000:.2f}\")\n",
    "\n",
    "    evals = {\n",
    "        \"model\": model,\n",
    "        \"thinking_budget\": thinking_budget,\n",
    "        \"n\": n,\n",
    "        \"responses\": responses,\n",
    "        \"avg_acc\": avg_acc,\n",
    "        \"avg_cost\": avg_cost,\n",
    "        \"avg_time\": avg_time,\n",
    "        \"incorrect\": incorrect\n",
    "    }\n",
    "    \n",
    "    return evals\n"
   ]
  },
  {
   "cell_type": "code",
   "execution_count": 222,
   "id": "9b1fb61c",
   "metadata": {},
   "outputs": [
    {
     "name": "stdout",
     "output_type": "stream",
     "text": [
      "Evals for gemini-2.5-flash with thinking_budget = -1, n = 5:\n",
      "\n",
      "Avg accuracy: 0.96\n",
      "Avg time: 7.06s\n",
      "Cost for 1 PDF page:     $0.00387960 , or 0.39¢\n",
      "Cost for 1000 PDF pages: $3.88\n"
     ]
    }
   ],
   "source": [
    "flash_evals = run_eval(GEMINI_2_5_FLASH, thinking_budget=-1, n=5)"
   ]
  },
  {
   "cell_type": "code",
   "execution_count": 223,
   "id": "5d35f4e7",
   "metadata": {},
   "outputs": [
    {
     "name": "stdout",
     "output_type": "stream",
     "text": [
      "Evals for gemini-2.5-flash with thinking_budget = 0, n = 5:\n",
      "\n",
      "Avg accuracy: 0.93\n",
      "Avg time: 3.30s\n",
      "Cost for 1 PDF page:     $0.00124210 , or 0.12¢\n",
      "Cost for 1000 PDF pages: $1.24\n"
     ]
    }
   ],
   "source": [
    "flash_evals_no_thinking = run_eval(GEMINI_2_5_FLASH, thinking_budget=0, n=5)"
   ]
  },
  {
   "cell_type": "code",
   "execution_count": 224,
   "id": "9377cad5",
   "metadata": {},
   "outputs": [
    {
     "name": "stdout",
     "output_type": "stream",
     "text": [
      "Evals for gemini-2.5-flash-lite-preview-06-17 with thinking_budget = -1, n = 5:\n",
      "\n",
      "Avg accuracy: 0.91\n",
      "Avg time: 3.20s\n",
      "Cost for 1 PDF page:     $0.00064574 , or 0.06¢\n",
      "Cost for 1000 PDF pages: $0.65\n"
     ]
    }
   ],
   "source": [
    "flash_lite_evals = run_eval(GEMINI_2_5_FLASH_LITE, thinking_budget=-1, n=5)"
   ]
  },
  {
   "cell_type": "code",
   "execution_count": 225,
   "id": "025284e4",
   "metadata": {},
   "outputs": [
    {
     "name": "stdout",
     "output_type": "stream",
     "text": [
      "Evals for gemini-2.5-flash-lite-preview-06-17 with thinking_budget = 0, n = 5:\n",
      "\n",
      "Avg accuracy: 0.91\n",
      "Avg time: 2.27s\n",
      "Cost for 1 PDF page:     $0.00031758 , or 0.03¢\n",
      "Cost for 1000 PDF pages: $0.32\n"
     ]
    }
   ],
   "source": [
    "flash_lite_evals_no_thinking = run_eval(GEMINI_2_5_FLASH_LITE, thinking_budget=0, n=5)"
   ]
  },
  {
   "cell_type": "code",
   "execution_count": 226,
   "id": "15acdfc5",
   "metadata": {},
   "outputs": [
    {
     "name": "stdout",
     "output_type": "stream",
     "text": [
      "Evals for gemini-2.5-pro with thinking_budget = -1, n = 5:\n",
      "\n",
      "Avg accuracy: 0.97\n",
      "Avg time: 13.94s\n",
      "Cost for 1 PDF page:     $0.01301175 , or 1.30¢\n",
      "Cost for 1000 PDF pages: $13.01\n"
     ]
    }
   ],
   "source": [
    "pro_evals = run_eval(GEMINI_2_5_PRO, thinking_budget=-1, n=5)"
   ]
  },
  {
   "cell_type": "code",
   "execution_count": 227,
   "id": "3bfc6e04",
   "metadata": {},
   "outputs": [
    {
     "name": "stdout",
     "output_type": "stream",
     "text": [
      "Evals for gemini-2.5-pro with thinking_budget = 128, n = 5:\n",
      "\n",
      "Avg accuracy: 0.97\n",
      "Avg time: 9.50s\n",
      "Cost for 1 PDF page:     $0.00725375 , or 0.73¢\n",
      "Cost for 1000 PDF pages: $7.25\n"
     ]
    }
   ],
   "source": [
    "pro_evals_minimal_thinking = run_eval(GEMINI_2_5_PRO, thinking_budget=128, n=5)"
   ]
  },
  {
   "cell_type": "markdown",
   "id": "2a8931b2",
   "metadata": {},
   "source": [
    "### 📊Plot the evals"
   ]
  },
  {
   "cell_type": "code",
   "execution_count": 348,
   "id": "ea8e9941",
   "metadata": {},
   "outputs": [
    {
     "data": {
      "image/png": "[encoded data removed]",
      "text/plain": [
       "<Figure size 640x480 with 1 Axes>"
      ]
     },
     "metadata": {},
     "output_type": "display_data"
    }
   ],
   "source": [
    "import matplotlib.pyplot as plt\n",
    "\n",
    "all_evals = [\n",
    "    flash_lite_evals_no_thinking, flash_lite_evals, flash_evals_no_thinking,\n",
    "    flash_evals, pro_evals_minimal_thinking, pro_evals\n",
    "]\n",
    "\n",
    "names = [f\"{eval['model'].replace(\"gemini-\",\"\").replace(\"-preview-06-17\",\"\")}, {eval['thinking_budget']}\" for eval in all_evals]\n",
    "avg_accs = [eval[\"avg_acc\"] for eval in all_evals]\n",
    "avg_costs = [eval[\"avg_cost\"] for eval in all_evals]\n",
    "avg_times = [eval[\"avg_time\"] for eval in all_evals]\n",
    "\n",
    "bar_colors = ['red', 'red', 'orange', 'orange', 'blue', 'blue']\n",
    "\n",
    "fig, ax = plt.subplots()\n",
    "\n",
    "bar = ax.bar(names, avg_accs, color=bar_colors)\n",
    "\n",
    "ax.set_title('Accuracy')\n",
    "ax.bar_label(bar, label_type='center', fmt=\"%.2f\")\n",
    "plt.xticks(rotation=45)\n",
    "\n",
    "plt.show()"
   ]
  },
  {
   "cell_type": "code",
   "execution_count": 349,
   "id": "1e0a9f63",
   "metadata": {},
   "outputs": [
    {
     "data": {
      "image/png": "[encoded data removed]",
      "text/plain": [
       "<Figure size 640x480 with 1 Axes>"
      ]
     },
     "metadata": {},
     "output_type": "display_data"
    }
   ],
   "source": [
    "fig, ax = plt.subplots()\n",
    "bar = ax.bar(names, [c*1000 for c in avg_costs], color=bar_colors)\n",
    "\n",
    "ax.set_title('Costs per 1000 PDFs')\n",
    "ax.bar_label(bar, label_type='center', fmt=\"$%.2f\")\n",
    "plt.xticks(rotation=45)\n",
    "\n",
    "plt.show()"
   ]
  },
  {
   "cell_type": "code",
   "execution_count": 353,
   "id": "5351dfca",
   "metadata": {},
   "outputs": [
    {
     "data": {
      "image/png": "[encoded data removed]",
      "text/plain": [
       "<Figure size 640x480 with 1 Axes>"
      ]
     },
     "metadata": {},
     "output_type": "display_data"
    }
   ],
   "source": [
    "fig, ax = plt.subplots()\n",
    "bar = ax.bar(names, avg_times, color=bar_colors)\n",
    "\n",
    "ax.set_title('Average Generation Times')\n",
    "ax.bar_label(bar, label_type='center', fmt=\"%.2fs\")\n",
    "plt.xticks(rotation=45)\n",
    "\n",
    "plt.show()"
   ]
  },
  {
   "cell_type": "markdown",
   "id": "394d754c",
   "metadata": {},
   "source": [
    "### 👉 Takeaways\n",
    "\n",
    "- 2.5 Pro best, but significantly more slow and expensive\n",
    "- PDF extraction works well without thinking (Thinking only made a difference for 2.5 Flash)\n",
    "- (For this task, speed might be less important)\n",
    "- If we do not want to sacrifice accuracy, we need to choose 2.5 Pro, but we could disable thinking (more testing required)\n",
    "- 2.5 Flash with thinking is a good trade-off (only slightly less accurate but 3-4x cheaper than Pro)\n",
    "- If we can sacrifice accuracy, 2.5 Flash-Lite even without thinking is great & cheap with still over 91% acc"
   ]
  },
  {
   "cell_type": "markdown",
   "id": "47fb7224",
   "metadata": {},
   "source": [
    "#### TODO: Test with different thinking budgets"
   ]
  },
  {
   "cell_type": "markdown",
   "id": "f620b728",
   "metadata": {},
   "source": [
    "## Test 2: Chat with large PDF"
   ]
  },
  {
   "cell_type": "code",
   "execution_count": 262,
   "id": "08fec1f1",
   "metadata": {},
   "outputs": [],
   "source": [
    "import httpx\n",
    "URL = \"https://storage.googleapis.com/deepmind-media/gemini/gemini_v2_5_report.pdf\"\n",
    "response = httpx.get(URL)\n",
    "with open(\"gemini_v2_5_report.pdf\", \"wb\") as f:\n",
    "    f.write(response.content)"
   ]
  },
  {
   "cell_type": "code",
   "execution_count": 263,
   "id": "58779102",
   "metadata": {},
   "outputs": [],
   "source": [
    "uploaded_pdf = client.files.upload(file=\"gemini_v2_5_report.pdf\")"
   ]
  },
  {
   "cell_type": "markdown",
   "id": "288936c6",
   "metadata": {},
   "source": [
    "### 🚄Calculate TTFT with streaming"
   ]
  },
  {
   "cell_type": "code",
   "execution_count": 282,
   "id": "09552dd3",
   "metadata": {},
   "outputs": [],
   "source": [
    "def stream_summarization(model, filename):\n",
    "    chunks = []\n",
    "    prompt = \"Summarize this document in 10 bullet points. Then write 2 pages with the most important learnings from this report.\"\n",
    "    start = time.time()\n",
    "    response = client.models.generate_content_stream(\n",
    "        model=model,\n",
    "        contents=[prompt, uploaded_pdf],\n",
    "        config={\"thinking_config\": {\"thinking_budget\": 0}}\n",
    "    )\n",
    "\n",
    "    for chunk in response:\n",
    "        if not chunks:\n",
    "            elapsed = time.time() - start\n",
    "            print(f\"Time to first response: {elapsed}\")\n",
    "        print(chunk.text)\n",
    "        chunks.append(chunk.text)\n",
    "\n",
    "    elapsed = time.time() - start\n",
    "    print(f\"Total time: {elapsed}\")\n",
    "\n",
    "    with open(filename, \"w\") as f:\n",
    "        f.write(\"\".join(chunks))"
   ]
  },
  {
   "cell_type": "code",
   "execution_count": 283,
   "id": "bbb20167",
   "metadata": {},
   "outputs": [
    {
     "name": "stdout",
     "output_type": "stream",
     "text": [
      "Time to first response: 10.414530038833618\n",
      "Here is a summary of the\n",
      " document in 10 bullet points, followed by a two-page learning report\n",
      ".\n",
      "\n",
      "## Summary of the Document (10 Bullet Points):\n",
      "\n",
      "1.  **Gemini 2.X Model Family:** Google DeepMind introduces the Gemini 2.X model family, including Gemini 2.5 Pro (most\n",
      " capable), Gemini 2.5 Flash (efficient), Gemini 2.0 Flash, and Flash-Lite (fastest/cost-efficient).\n",
      "2.  **Advanced Capabilities:** Gemini 2.5 Pro demonstrates state-of-the-art\n",
      " performance in coding, reasoning, and multimodal understanding, including processing up to 3 hours of video content.\n",
      "3.  **Core Features:** All Gemini 2.X models are natively multimodal, support long context inputs (>1 million tokens), and have\n",
      " native tool-use support, enabling complex agentic workflows.\n",
      "4.  **\"Thinking\" Mechanism:** Gemini Thinking models are trained with Reinforcement Learning to use additional inference-time compute for more accurate answers, allowing for tens of thousands of forward passes during\n",
      " a \"thinking\" stage.\n",
      "5.  **Performance Improvements:** Gemini 2.5 models show significant performance gains over previous versions, with Gemini 2.5 Pro's LMArena score being over 120 points\n",
      " higher than Gemini 1.5 Pro, and substantial improvements in coding, math, reasoning, and multimodal tasks.\n",
      "6.  **Training Infrastructure & Stability:** The models are trained on TPUv5p architecture, with advancements in slice\n",
      "-granularity elasticity and split-phase Silent Data Corruption (SDC) detection to enhance large-scale training stability.\n",
      "7.  **Safety and Responsibility Focus:** Google DeepMind prioritizes safety, security, and responsibility through comprehensive evaluations, automated red teaming,\n",
      " dataset filtering, and reinforcement learning with human and critic feedback.\n",
      "8.  **Frontier Safety Framework (FSF):** Gemini 2.5 Pro was evaluated against the FSF's Critical Capability Levels (CCLs) for CBRN, cybersecurity,\n",
      " machine learning R&D, and deceptive alignment, and while it showed some abilities, it did not reach any CCLs.\n",
      "9.  **Real-world Applications:** Gemini 2.5 Pro excels at transforming diverse inputs into interactive applications\n",
      " (e.g., creating web apps from video lectures, book recommendation apps from photos, SVG from images) and is integrated into various Google products like AI Overviews and Project Astra.\n",
      "10. **Agentic Capabilities (Pokémon Case\n",
      " Study):** The Gemini 2.5 Pro agent successfully played Pokémon Blue autonomously, demonstrating strong long-term planning, problem-solving, and tool-use (pathfinding, boulder puzzles) over extended time horizons.\n",
      "\n",
      "---\n",
      "\n",
      "## Important\n",
      " Learnings from the Gemini 2.5 Report\n",
      "\n",
      "The Google DeepMind \"Gemini 2.5\" report presents a compelling vision for the next generation of AI models, emphasizing advanced reasoning, multimodal understanding, long context processing, and sophisticated\n",
      " agentic capabilities. My key learnings from this document revolve around three critical themes: the **holistic development approach to AI capabilities**, the **rigorous commitment to safety and responsibility**, and the **emerging frontier of AI as an intelligent agent**.\n",
      "\n",
      "### \n",
      "1. Holistic Development of AI Capabilities: Beyond Simple Scaling\n",
      "\n",
      "One of the most striking takeaways from the Gemini 2.5 report is the comprehensive and multi-faceted approach to developing advanced AI models. It's clear that progress isn't merely\n",
      " about scaling up parameters or data; rather, it's a synergistic interplay of architectural innovation, refined training methodologies, and strategic capability enhancements.\n",
      "\n",
      "**Multimodality as a Native Design Principle:** Unlike many early AI models that focused primarily on text,\n",
      " Gemini 2.X models are \"natively multimodal.\" This isn't just an add-on feature but a fundamental design choice, allowing them to process and understand information across text, audio, images, and video seamlessly. The ability to process up\n",
      " to three hours of video content and convert demonstrative videos into interactive coding applications (as highlighted by the *Baddepudi et al., 2025* blog post) showcases a profound leap in contextual understanding. This integrated mult\n",
      "imodality is crucial for AI systems to interact with the world in a human-like manner, where information rarely comes in isolated modalities. The comparison of Gemini 1.5 Pro and Gemini 2.5 Pro in image-to-\n",
      "SVG reconstruction (Figure 15) visually demonstrates this significant improvement in spatial and visual detail understanding, indicating a move towards more nuanced and accurate multimodal comprehension.\n",
      "\n",
      "**The Power of \"Thinking\" and Controllable Inference:** The introduction of \"\n",
      "Thinking\" models is a significant architectural and conceptual advancement. By allowing models to spend additional inference-time compute on reasoning, the Gemini 2.5 series moves beyond immediate, reflexive responses. This Reinforcement Learning-trained \"thinking\" stage,\n",
      " involving tens of thousands of forward passes, fundamentally enhances problem-solving accuracy across various domains like mathematics, coding, and general reasoning. The concept of a \"Thinking budget\" further allows users to control the performance-cost tradeoff, providing flexibility for\n",
      " diverse applications. This highlights a shift from purely generative models to more deliberative, reasoning-based AI, which is essential for tackling complex, multi-step problems that require deep logical inference.\n",
      "\n",
      "**Long Context and Agentic Workflows:** The document\n",
      " repeatedly emphasizes the models' ability to handle \"long context inputs of >1 million tokens\" and their native tool-use support. This extended context window is not just about memory; it enables sophisticated agentic workflows. The Pokémon Blue case study vividly\n",
      " illustrates this. The Gemini 2.5 Pro agent, with its access to long-term memory (action history, summaries, XML map) and specialized tools (pathfinder, boulder puzzle strategist), demonstrates remarkable long-horizon task coherence,\n",
      " strategic planning, and problem-solving over hundreds of hours of gameplay. The ability to \"creatively escape a softlock caused by bugs in game I/O\" (p. 66) is a testament to emergent reasoning and adaptability\n",
      " beyond its training data, indicating true agentic capabilities. However, the report also acknowledges challenges like \"context poisoning\" and \"topological traps,\" which underscore that effective utilization of vast context for *generative reasoning* remains an active research frontier, distinct\n",
      " from simple *retrieval*. This balance of advanced capability with recognized limitations paints a realistic picture of current AI development.\n",
      "\n",
      "### 2. Rigorous Commitment to Safety and Responsibility: A Non-Negotiable Foundation\n",
      "\n",
      "The extensive discussion on safety,\n",
      " security, and responsibility—occupying a substantial portion of the report—underscores Google DeepMind's profound commitment to ethical AI development. This is not merely a compliance exercise but an integrated part of the development lifecycle, highlighting the critical importance\n",
      " of anticipating and mitigating potential harms.\n",
      "\n",
      "**Multi-layered Safety Framework:** The report details a robust, multi-layered approach to safety. This includes:\n",
      "*   **Clear Policies and Desiderata:** Explicitly defining what the models should\n",
      " *not* do (e.g., generate harmful content) and what they *should* do (e.g., be helpful, assume good intent). These policies are applied across all modalities.\n",
      "*   **Safety Integration in Training:** Incorpor\n",
      "ating safety measures from pre-training (dataset filtering, monitoring for steerability) through post-training (Supervised Fine-Tuning with adversarial prompts, Reinforcement Learning from Human and Critic Feedback). The iterative refinement process, leveraging custom data generation and human intervention\n",
      " to address safety violations and over-refusals, shows a practical feedback loop.\n",
      "*   **Automated Red Teaming (ART):** The use of ART, framed as a multi-agent game between attackers and the Gemini model, is particularly\n",
      " innovative. This dynamic, scaled evaluation method aims to proactively identify potential risks by eliciting unsafe or unhelpful responses, even in \"black-box\" settings. The consistent reduction in helpfulness violations discovered by ART for Gemini 2.5 Flash\n",
      " and Pro models signifies the effectiveness of this approach.\n",
      "*   **Assurance Evaluations and External Testing:** The \"arms-length\" internal assurance evaluations, conducted by a separate group from the development team, and the engagement of independent external groups for\n",
      " \"black-box\" testing (including domain experts and government bodies) demonstrate a commitment to objective scrutiny. This external validation is crucial for identifying blind spots and building public trust.\n",
      "\n",
      "**Frontier Safety Framework (FSF) and Critical Capability\n",
      " Levels (CCLs):** The FSF is a forward-looking approach to anticipate and mitigate severe harms from powerful AI models, particularly in high-risk domains like CBRN (chemical, biological, radiological, nuclear), cybersecurity, machine learning R&D, and\n",
      " deceptive alignment. While Gemini 2.5 Pro shows increased capabilities in these areas compared to previous models, the report's conclusion that it \"does not reach any of the FSF CCLs\" is reassuring. It implies that despite its\n",
      " advanced abilities, it does not yet pose a significant risk of causing severe harm without appropriate mitigations. The report's transparency about passing \"early warning alert thresholds\" for cyber uplift, leading to accelerated mitigation efforts, highlights a proactive stance in\n",
      " managing potential risks before they escalate to critical levels. The detailed breakdown of specific challenges and performance metrics within each FSF domain provides valuable insight into the ongoing efforts to ensure responsible AI development.\n",
      "\n",
      "### 3. The Emerging Frontier: AI as an Intelligent Agent\n",
      "\n",
      "\n",
      "The report's emphasis on \"agentic capabilities\" suggests a significant paradigm shift in how AI models are conceived and utilized. Moving beyond mere conversational interfaces or content generators, Gemini 2.5 is positioned as a foundation for intelligent agents capable of complex\n",
      ", goal-oriented interactions with dynamic environments.\n",
      "\n",
      "**From Assistant to Agent:** The document explicitly states that the Gemini 2.X generation \"brings us closer to the vision of a universal AI assistant\" (Hassabis, \n",
      "2025) and \"power[s] a new era of agentic systems.\" This transition is exemplified by applications like \"Gemini Deep Research,\" an agent optimized to browse the web and provide informed answers to niche queries, and its\n",
      " integration into Google products like \"Project Astra\" and \"Jules\" (Google's coding agent). The ability to integrate with tools like Google Search and code execution, along with its multimodal and long-context capabilities, forms the bedrock for these\n",
      " agents to operate in complex, real-world scenarios.\n",
      "\n",
      "**Learning from Agentic Benchmarks:** The Pokémon Blue example is a compelling microcosm of the challenges and successes in developing generalist agents. The agent's ability to \"strategically browse the web,\"\n",
      " \"perform task prioritization,\" and \"identify when it reaches a dead-end\" (p. 8) are critical attributes for autonomous operation. The report's candid discussion of the agent's struggles, such as \"screen reading\" difficulties\n",
      " (where direct pixel input was less effective than translated text from RAM state) and \"fixations on delusions\" (hallucinating game state), provides invaluable insights into the current limitations of even highly capable agents. These challenges highlight that while models excel at complex reasoning\n",
      " in controlled environments, real-world complexity, noise, and the need for robust self-correction remain significant hurdles. The observation that \"making effective use of [1M+ token] context for agents presents a new research frontier\" further emphasizes the iterative nature of agent\n",
      " development.\n",
      "\n",
      "**Implications for Future AI Development:** The report implicitly argues that agentic systems, with their ability to tackle multi-step problems, access tools, and self-critique, necessitate a re-evaluation of current AI benchmarks. The\n",
      " call for \"scalable evaluations in both their capability coverage and their difficulty\" that also represent \"tasks that have economic value\" (p. 38) indicates a recognition that traditional academic benchmarks may no longer fully capture the evolving capabilities of these\n",
      " advanced agents. The success of Gemini 2.5 Pro in competitive coding (Aider Polyglot, SWE-bench) and math (AIME 2025) further validates its utility in complex, real-world agent\n",
      "ic tasks. This suggests a future where AI research will increasingly focus on building and evaluating agents that can autonomously navigate and solve problems in open-ended, dynamic environments.\n",
      "\n",
      "In conclusion, the Gemini 2.5 report paints a picture of AI\n",
      " development that is both ambitious in its pursuit of advanced capabilities and deeply responsible in its approach to safety. The progress in multimodality, \"thinking\" mechanisms, and long-context processing lays a strong foundation for sophisticated AI agents. However, the transparent\n",
      " acknowledgement of current limitations and the commitment to rigorous safety evaluations emphasize that this frontier is being navigated with caution and a clear understanding of the challenges ahead. The report signifies a pivotal moment where AI is not just becoming more intelligent, but also more capable of independent\n",
      ", purposeful action in the world.\n",
      "Total time: 28.685763120651245\n"
     ]
    }
   ],
   "source": [
    "stream_summarization(GEMINI_2_5_FLASH, \"report_summary-flash.txt\")"
   ]
  },
  {
   "cell_type": "code",
   "execution_count": 284,
   "id": "691cc756",
   "metadata": {},
   "outputs": [
    {
     "name": "stdout",
     "output_type": "stream",
     "text": [
      "Time to first response: 8.482915163040161\n",
      "Here are \n",
      "10 bullet points summarizing the document:\n",
      "\n",
      "*   **Gemini 2.\n",
      "X Model Family Introduction:** The report introduces Gemini 2.5 Pro and Gemini 2.5 Flash, building upon earlier Gemini 2.0 Flash and Flash-Lite models, to represent a new generation of highly capable AI models.\n",
      "*   \n",
      "**Gemini 2.5 Pro's Advancements:** Gemini 2.5 Pro is described as the most capable model yet, achieving state-of-the-art performance in frontier coding and reasoning benchmarks, alongside enhanced multimodal understanding and the\n",
      " ability to process up to 3 hours of video.\n",
      "*   **Gemini 2.5 Flash's Role:** Gemini 2.5 Flash is presented as a hybrid reasoning model with a controllable thinking budget, balancing quality, cost, and\n",
      " latency, making it suitable for complex tasks.\n",
      "*   **Pareto Frontier Coverage:** The entire Gemini 2.X family spans the Pareto frontier of model capability versus cost, offering a range of options for users.\n",
      "*   **Natively Mult\n",
      "imodal and Long Context:** All Gemini 2.X models are natively multimodal and support long context inputs of over 1 million tokens, enabling comprehension of vast datasets across various modalities.\n",
      "*   **Advanced Reasoning and \"Thinking\" Capability:** Gemini\n",
      " 2.5 models incorporate \"Thinking,\" a capability trained to use additional inference-time compute for improved reasoning and more accurate answers.\n",
      "*   **Significant Performance Gains:** Gemini 2.5 models show marked improvements across core capabilities, including coding\n",
      ", math, and reasoning, with Gemini 2.5 Pro achieving significant gains over Gemini 1.5 Pro.\n",
      "*   **Enhanced Factuality and Tool Use:** The models integrate advanced reasoning to interleave search capabilities with internal thought processes for more\n",
      " precise and verified responses, including improved tool use.\n",
      "*   **Safety and Responsibility Focus:** The Gemini 2.5 family maintains robust safety metrics while improving helpfulness and reducing policy violations.\n",
      "*   **Future Directions and Agentic Work\n",
      "flows:** The report highlights the potential of Gemini 2.5 models to power a new era of agentic systems and explores new applications unlocked by these advancements.\n",
      "\n",
      "## Key Learnings from the Gemini 2.5 Report\n",
      "\n",
      "The introduction\n",
      " of the Gemini 2.X model family, specifically Gemini 2.5 Pro and Gemini 2.5 Flash, signifies a substantial leap forward in Google DeepMind's AI development, pushing the boundaries of what's possible with large\n",
      " language models. The core of this advancement lies in the integration and significant enhancement of several key capabilities: advanced reasoning, multimodality, long context processing, and next-generation agentic abilities. This new generation aims to power a new era of AI\n",
      " systems, bringing the vision of a universal AI assistant closer to reality.\n",
      "\n",
      "One of the most impactful learnings from this report is the **significant performance uplift across a wide array of benchmarks**, particularly in coding, math, and reasoning tasks. Gemini 2\n",
      ".5 Pro, in particular, demonstrates a step change in performance compared to its predecessors, achieving state-of-the-art (SoTA) scores on benchmarks like Aider Polyglot, and highly competitive scores on others such as GPQA (\n",
      "diamond) and Humanity's Last Exam. This indicates a maturation in the model's ability to not just process information but to understand, reason, and generate complex outputs effectively. The report emphasizes that this performance improvement is not incremental; Gemini\n",
      " 2.5 Pro's performance on Aider Polyglot has seen a 5x increase over the past year, and on SWE-bench verified, it has doubled. This suggests a rapid pace of development and an effective scaling\n",
      " of model architecture and training methodologies.\n",
      "\n",
      "Another crucial learning is the **advancement in multimodal capabilities and long context processing**. The Gemini 2.X models are natively multimodal, capable of understanding and processing inputs from text, images, audio, and\n",
      " video. The ability to process up to three hours of video content and handle long context inputs of over one million tokens is a game-changer. This allows for a much deeper and more nuanced understanding of complex data, opening up new avenues for applications such as\n",
      " creating interactive educational tools from video lectures or analyzing vast code repositories. The report highlights specific examples, like recalling a one-second visual event from a 46-minute video, which underscores the enhanced temporal and fine-grained understanding capabilities.\n",
      "\n",
      "The\n",
      " introduction of \"Thinking\" as a core capability is a significant departure from previous models. Gemini models are now trained to utilize additional inference-time compute for reasoning, allowing them to spend tens of thousands of forward passes on a \"thinking\" stage before providing an\n",
      " answer. This \"dynamic thinking\" allows the model to scale its performance based on the complexity of the query and the available computational budget, offering users the ability to trade off performance with cost. This is particularly evident in the Pokémon agent example, where the\n",
      " model had to reason over contexts of over 100,000 tokens and maintain long-horizon task coherence to achieve its goals.\n",
      "\n",
      "Furthermore, the report underscores the **continued commitment to safety and responsibility**. The Gemini 2.\n",
      "5 models are designed to be safer and more helpful than their predecessors, with a focus on reducing policy violations and minimizing over-refusals. The development process incorporates rigorous safety evaluations, automated red teaming, and external testing to identify and mitigate\n",
      " potential risks. While Gemini 2.5 Pro has shown marked improvements in areas like cybersecurity and machine learning R&D, it has not crossed any Critical Capability Levels (CCLs) defined in Google DeepMind's Frontier Safety Framework, indicating\n",
      " that it does not currently pose a significant risk of severe harm. This proactive approach to safety, integrated throughout the development lifecycle, is a key takeaway.\n",
      "\n",
      "Finally, the report highlights the **expansion of agentic workflows**. The Gemini 2.\n",
      "5 models are not just powerful standalone models but are also designed to power sophisticated agentic systems. The Pokémon example demonstrates how Gemini 2.5 Pro can act as an agent, utilizing tools, learning from past experiences, and even demonstrating emergent capabilities like\n",
      " creative problem-solving and autonomous tool creation. This points towards a future where AI agents can tackle complex, multi-step tasks over extended periods, becoming more integral to problem-solving and discovery across various domains. The ability to leverage tools,\n",
      " self-critique, and maintain long-term coherence is fundamental to unlocking the full potential of these advanced AI systems. The development of these models represents a significant step towards building more capable, versatile, and responsible AI.\n",
      "Total time: 14.128069877624512\n"
     ]
    }
   ],
   "source": [
    "stream_summarization(GEMINI_2_5_FLASH_LITE, \"report_summary-flash-lite.txt\")"
   ]
  },
  {
   "cell_type": "markdown",
   "id": "734df3c2",
   "metadata": {},
   "source": [
    "### 👉 Takeaways\n",
    "\n",
    "- 1.2x faster TTFT for Flash-Lite, but this can heavily depend on the input and output size\n",
    "- 2x faster total generation for Flash-Lite, but this can heavily depend on the input and output size\n",
    "- *\"Gemini 2.5 Flash-Lite independent benchmarks: ~5x cheaper and ~1.7x faster than regular Flash but with reduced intelligence\"* [Source](https://x.com/ArtificialAnlys/status/1935427194882552148)"
   ]
  },
  {
   "cell_type": "markdown",
   "id": "8d20683c",
   "metadata": {},
   "source": [
    "## Test 3: Generate an SVG of a pelican riding a bicycle\n",
    "\n",
    "Credits to Simon Willison for the idea:\n",
    "\n",
    "- [The last six months in LLMs, illustrated by pelicans on bicycles](https://simonwillison.net/2025/Jun/6/six-months-in-llms/)\n",
    "- [Trying out the new Gemini 2.5 model family](https://simonwillison.net/2025/Jun/17/gemini-2-5/)"
   ]
  },
  {
   "cell_type": "code",
   "execution_count": 9,
   "id": "8d43df37",
   "metadata": {},
   "outputs": [],
   "source": [
    "def generate_pelican(model, thinking_budget, filename):\n",
    "    start = time.time()\n",
    "    response = client.models.generate_content(\n",
    "        model=model,\n",
    "        contents=\"Generate an SVG of a pelican riding a bicycle. Use width=800 and height=600. Return only the SVG code and nothing else\",\n",
    "        config={\"thinking_config\": {\"thinking_budget\": thinking_budget}}\n",
    "    )\n",
    "    end = time.time()\n",
    "\n",
    "    svg = response.text\n",
    "    if svg.startswith(\"```svg\\n\"):\n",
    "        svg = svg.lstrip(\"```svg\\n\")\n",
    "    if svg.startswith(\"```xml\\n\"):\n",
    "        svg = svg.lstrip(\"```xml\\n\")\n",
    "    if svg.endswith(\"```\"):\n",
    "        svg = svg.rstrip(\"```\")\n",
    "\n",
    "    cost = calc_cost(model, response.usage_metadata)\n",
    "\n",
    "    print(f\"SVG generation with {model}\")\n",
    "    print(f\"Cost: ${cost:.8f} , or {cost*100:.2f}¢\")\n",
    "    print(f\"Time: {end-start:.2f}s\")\n",
    "\n",
    "    Path(filename).unlink(missing_ok=True)\n",
    "\n",
    "    with open(filename, \"w\") as f:\n",
    "        f.write(svg)"
   ]
  },
  {
   "cell_type": "code",
   "execution_count": 13,
   "id": "744d10c4",
   "metadata": {},
   "outputs": [],
   "source": [
    "from IPython.display import SVG, display"
   ]
  },
  {
   "cell_type": "code",
   "execution_count": 20,
   "id": "77dc9ebb",
   "metadata": {},
   "outputs": [
    {
     "name": "stdout",
     "output_type": "stream",
     "text": [
      "SVG generation with gemini-2.5-flash-lite-preview-06-17\n",
      "Cost: $0.00065410 , or 0.07¢\n",
      "Time: 3.55s\n"
     ]
    },
    {
     "data": {
      "image/svg+xml": [
       "<svg xmlns=\"http://www.w3.org/2000/svg\" width=\"800\" height=\"600\" viewBox=\"0 0 800 600\">\n",
       "\n",
       "  <!-- Bicycle -->\n",
       "  <g id=\"bicycle\">\n",
       "    <!-- Back Wheel -->\n",
       "    <circle cx=\"200\" cy=\"400\" r=\"50\" fill=\"none\" stroke=\"black\" stroke-width=\"5\"/>\n",
       "    <line x1=\"200\" y1=\"350\" x2=\"200\" y2=\"450\" stroke=\"black\" stroke-width=\"3\"/>\n",
       "    <line x1=\"150\" y1=\"400\" x2=\"250\" y2=\"400\" stroke=\"black\" stroke-width=\"3\"/>\n",
       "    <line x1=\"175\" y1=\"375\" x2=\"225\" y2=\"425\" stroke=\"black\" stroke-width=\"3\"/>\n",
       "    <line x1=\"175\" y1=\"425\" x2=\"225\" y2=\"375\" stroke=\"black\" stroke-width=\"3\"/>\n",
       "\n",
       "    <!-- Front Wheel -->\n",
       "    <circle cx=\"500\" cy=\"400\" r=\"50\" fill=\"none\" stroke=\"black\" stroke-width=\"5\"/>\n",
       "    <line x1=\"500\" y1=\"350\" x2=\"500\" y2=\"450\" stroke=\"black\" stroke-width=\"3\"/>\n",
       "    <line x1=\"450\" y1=\"400\" x2=\"550\" y2=\"400\" stroke=\"black\" stroke-width=\"3\"/>\n",
       "    <line x1=\"475\" y1=\"375\" x2=\"525\" y2=\"425\" stroke=\"black\" stroke-width=\"3\"/>\n",
       "    <line x1=\"475\" y1=\"425\" x2=\"525\" y2=\"375\" stroke=\"black\" stroke-width=\"3\"/>\n",
       "\n",
       "    <!-- Frame -->\n",
       "    <line x1=\"200\" y1=\"350\" x2=\"300\" y2=\"250\" stroke=\"black\" stroke-width=\"5\"/>\n",
       "    <line x1=\"300\" y1=\"250\" x2=\"500\" y2=\"350\" stroke=\"black\" stroke-width=\"5\"/>\n",
       "    <line x1=\"300\" y1=\"250\" x2=\"300\" y2=\"350\" stroke=\"black\" stroke-width=\"5\"/>\n",
       "    <line x1=\"250\" y1=\"400\" x2=\"300\" y2=\"350\" stroke=\"black\" stroke-width=\"5\"/>\n",
       "\n",
       "    <!-- Handlebars -->\n",
       "    <path d=\"M 300 250 Q 350 200 400 250\" stroke=\"black\" stroke-width=\"5\" fill=\"none\"/>\n",
       "    <circle cx=\"400\" cy=\"250\" r=\"10\" fill=\"black\"/>\n",
       "\n",
       "    <!-- Pedals -->\n",
       "    <circle cx=\"300\" cy=\"350\" r=\"15\" fill=\"black\"/>\n",
       "    <line x1=\"285\" y1=\"340\" x2=\"275\" y2=\"355\" stroke=\"black\" stroke-width=\"3\"/>\n",
       "    <line x1=\"315\" y1=\"360\" x2=\"325\" y2=\"345\" stroke=\"black\" stroke-width=\"3\"/>\n",
       "  </g>\n",
       "\n",
       "  <!-- Pelican -->\n",
       "  <g id=\"pelican\">\n",
       "    <!-- Body -->\n",
       "    <ellipse cx=\"350\" cy=\"280\" rx=\"70\" ry=\"40\" fill=\"#FFC400\"/>\n",
       "    <ellipse cx=\"330\" cy=\"280\" rx=\"60\" ry=\"35\" fill=\"#FFD700\"/>\n",
       "\n",
       "    <!-- Head -->\n",
       "    <ellipse cx=\"430\" cy=\"220\" rx=\"40\" ry=\"30\" fill=\"#FFC400\"/>\n",
       "    <path d=\"M 460 210 Q 480 220 470 240 C 465 230 460 225 460 210 Z\" fill=\"#FFA500\"/>\n",
       "\n",
       "    <!-- Beak -->\n",
       "    <path d=\"M 465 230 Q 485 235 480 260 L 460 230 Z\" fill=\"#FF8C00\" transform=\"rotate(-10 470 245)\"/>\n",
       "    <path d=\"M 470 240 Q 480 250 475 270 L 465 240 Z\" fill=\"#FF8C00\" transform=\"rotate(-10 470 245)\"/>\n",
       "\n",
       "\n",
       "    <!-- Eye -->\n",
       "    <circle cx=\"425\" cy=\"210\" r=\"8\" fill=\"black\"/>\n",
       "    <circle cx=\"428\" cy=\"210\" r=\"3\" fill=\"white\"/>\n",
       "\n",
       "    <!-- Wings -->\n",
       "    <path d=\"M 280 260 Q 320 200 380 250 C 350 280 300 290 280 260 Z\" fill=\"#FFD700\"/>\n",
       "    <path d=\"M 420 250 Q 460 200 400 250 C 390 280 420 290 420 250 Z\" fill=\"#FFD700\"/>\n",
       "\n",
       "    <!-- Legs/Feet -->\n",
       "    <g transform=\"translate(250, 370) rotate(10)\">\n",
       "      <rect x=\"0\" y=\"0\" width=\"15\" height=\"30\" fill=\"#FFA500\"/>\n",
       "      <circle cx=\"7.5\" cy=\"30\" r=\"10\" fill=\"#FFA500\"/>\n",
       "      <path d=\"M 0 30 L 5 45 L 10 30 Z\" fill=\"#FFA500\"/>\n",
       "    </g>\n",
       "    <g transform=\"translate(300, 370) rotate(-10)\">\n",
       "      <rect x=\"0\" y=\"0\" width=\"15\" height=\"30\" fill=\"#FFA500\"/>\n",
       "      <circle cx=\"7.5\" cy=\"30\" r=\"10\" fill=\"#FFA500\"/>\n",
       "      <path d=\"M 0 30 L 5 45 L 10 30 Z\" fill=\"#FFA500\"/>\n",
       "    </g>\n",
       "  </g>\n",
       "\n",
       "</svg>"
      ],
      "text/plain": [
       "<IPython.core.display.SVG object>"
      ]
     },
     "metadata": {},
     "output_type": "display_data"
    }
   ],
   "source": [
    "generate_pelican(GEMINI_2_5_FLASH_LITE, 0, \"pelican-lite-no-thinking.svg\")\n",
    "\n",
    "display(SVG(\"pelican-lite-no-thinking.svg\"))"
   ]
  },
  {
   "cell_type": "code",
   "execution_count": 21,
   "id": "f00b23e9",
   "metadata": {},
   "outputs": [
    {
     "name": "stdout",
     "output_type": "stream",
     "text": [
      "SVG generation with gemini-2.5-flash-lite-preview-06-17\n",
      "Cost: $0.00605050 , or 0.61¢\n",
      "Time: 31.14s\n"
     ]
    },
    {
     "data": {
      "image/svg+xml": [
       "<svg xmlns=\"http://www.w3.org/2000/svg\" width=\"800\" height=\"600\">\n",
       "\n",
       "  <!-- Background -->\n",
       "  <rect width=\"800\" height=\"600\" fill=\"#87CEEB\"/>\n",
       "  <rect y=\"500\" width=\"800\" height=\"100\" fill=\"#228B22\"/>\n",
       "\n",
       "  <!-- Bicycle -->\n",
       "  <g id=\"bicycle\">\n",
       "\n",
       "    <!-- Wheels -->\n",
       "    <circle cx=\"280\" cy=\"450\" r=\"50\" fill=\"#333\"/>\n",
       "    <circle cx=\"280\" cy=\"450\" r=\"10\" fill=\"gray\"/>\n",
       "    <circle cx=\"580\" cy=\"450\" r=\"50\" fill=\"#333\"/>\n",
       "    <circle cx=\"580\" cy=\"450\" r=\"10\" fill=\"gray\"/>\n",
       "\n",
       "    <!-- Frame -->\n",
       "    <g id=\"frame\" stroke=\"black\" stroke-width=\"6\">\n",
       "      <!-- Seat tube area -->\n",
       "      <path d=\"M 330 330 L 330 400\"/>\n",
       "      <!-- Seat post -->\n",
       "      <path d=\"M 330 300 L 330 330\"/>\n",
       "      <!-- Top tube -->\n",
       "      <path d=\"M 330 300 L 480 280\"/>\n",
       "      <!-- Down tube -->\n",
       "      <path d=\"M 330 330 L 480 350\"/>\n",
       "      <!-- Chain stays -->\n",
       "      <path d=\"M 330 400 L 220 420\"/>\n",
       "      <!-- Seat stays -->\n",
       "      <path d=\"M 330 300 L 220 370\"/>\n",
       "      <!-- Front fork -->\n",
       "      <path d=\"M 480 350 L 580 400\"/>\n",
       "    </g>\n",
       "\n",
       "    <!-- Seat -->\n",
       "    <ellipse cx=\"330\" cy=\"290\" rx=\"30\" ry=\"10\" fill=\"brown\" stroke=\"black\" stroke-width=\"1\"/>\n",
       "\n",
       "    <!-- Handlebars -->\n",
       "    <g id=\"handlebars\" stroke=\"black\" stroke-width=\"6\">\n",
       "      <!-- Stem -->\n",
       "      <path d=\"M 480 280 L 500 260\"/>\n",
       "      <!-- Bar -->\n",
       "      <path d=\"M 500 260 Q 510 240 520 260\"/>\n",
       "      <!-- Grips -->\n",
       "      <circle cx=\"495\" cy=\"255\" r=\"6\" fill=\"#555\"/>\n",
       "      <circle cx=\"525\" cy=\"255\" r=\"6\" fill=\"#555\"/>\n",
       "    </g>\n",
       "\n",
       "    <!-- Crank and Pedals -->\n",
       "    <g id=\"crankset\" stroke=\"black\" stroke-width=\"4\">\n",
       "      <!-- Left crank -->\n",
       "      <line x1=\"330\" y1=\"400\" x2=\"350\" y2=\"415\" transform=\"rotate(-20, 330, 400)\"/>\n",
       "      <!-- Left pedal -->\n",
       "      <rect x=\"345\" y=\"410\" width=\"15\" height=\"8\" fill=\"gray\" transform=\"rotate(-20, 345, 410)\"/>\n",
       "       <!-- Right crank -->\n",
       "      <line x1=\"330\" y1=\"400\" x2=\"310\" y2=\"415\" transform=\"rotate(20, 330, 400)\"/>\n",
       "      <!-- Right pedal -->\n",
       "      <rect x=\"295\" y=\"410\" width=\"15\" height=\"8\" fill=\"gray\" transform=\"rotate(20, 295, 410)\"/>\n",
       "    </g>\n",
       "\n",
       "  </g> <!-- end bicycle -->\n",
       "\n",
       "  <!-- Pelican -->\n",
       "  <!-- Adjusted translation to position pelican on the bicycle -->\n",
       "  <g id=\"pelican\" transform=\"translate(0, 5)\">\n",
       "    <!-- Body -->\n",
       "    <ellipse cx=\"410\" cy=\"320\" rx=\"75\" ry=\"50\" fill=\"white\" stroke=\"black\" stroke-width=\"2\"/>\n",
       "\n",
       "    <!-- Neck -->\n",
       "    <path d=\"M 380 280 Q 400 230 420 215\" stroke=\"white\" stroke-width=\"18\" fill=\"none\" stroke-linecap=\"round\"/>\n",
       "\n",
       "    <!-- Head -->\n",
       "    <circle cx=\"420\" cy=\"215\" r=\"35\" fill=\"white\" stroke=\"black\" stroke-width=\"2\"/>\n",
       "\n",
       "    <!-- Eye -->\n",
       "    <circle cx=\"430\" cy=\"210\" r=\"6\" fill=\"black\"/>\n",
       "\n",
       "    <!-- Beak & Pouch -->\n",
       "    <path d=\"M 420 215 L 475 225 L 485 215\" fill=\"#FFD700\" stroke=\"black\" stroke-width=\"2\"/>\n",
       "    <path d=\"M 475 225 Q 485 255 465 265 L 445 260 Z\" fill=\"#FFEC8B\" stroke=\"black\" stroke-width=\"1\"/>\n",
       "\n",
       "    <!-- Wings -->\n",
       "    <!-- Left Wing (partially hidden) -->\n",
       "    <path d=\"M 365 280 Q 325 320 355 360 L 385 320 Z\" fill=\"white\" stroke=\"black\" stroke-width=\"2\"/>\n",
       "    <!-- Right Wing (visible) -->\n",
       "    <path d=\"M 445 280 Q 495 320 465 360 L 425 320 Z\" fill=\"white\" stroke=\"black\" stroke-width=\"2\"/>\n",
       "\n",
       "    <!-- Legs (connecting body to feet) -->\n",
       "     <path d=\"M 375 350 L 345 415\" stroke=\"#FFA500\" stroke-width=\"6\" fill=\"none\" stroke-linecap=\"round\"/>\n",
       "     <path d=\"M 395 355 L 310 415\" stroke=\"#FFA500\" stroke-width=\"6\" fill=\"none\" stroke-linecap=\"round\"/>\n",
       "\n",
       "    <!-- Feet (resting on pedals) -->\n",
       "    <!-- Left Foot -->\n",
       "    <path d=\"M 345 415 Q 340 430 355 430 L 355 415 Z\" fill=\"#FFA500\" stroke=\"#444\" stroke-width=\"1\"/>\n",
       "    <!-- Right Foot -->\n",
       "    <path d=\"M 310 415 Q 305 430 325 430 L 325 415 Z\" fill=\"#FFA500\" stroke=\"#444\" stroke-width=\"1\"/>\n",
       "\n",
       "  </g> <!-- end pelican -->\n",
       "\n",
       "</svg>"
      ],
      "text/plain": [
       "<IPython.core.display.SVG object>"
      ]
     },
     "metadata": {},
     "output_type": "display_data"
    }
   ],
   "source": [
    "generate_pelican(GEMINI_2_5_FLASH_LITE, -1, \"pelican-lite-thinking.svg\")\n",
    "\n",
    "display(SVG(\"pelican-lite-thinking.svg\"))"
   ]
  },
  {
   "cell_type": "code",
   "execution_count": 22,
   "id": "a3f9c3c6",
   "metadata": {},
   "outputs": [
    {
     "name": "stdout",
     "output_type": "stream",
     "text": [
      "SVG generation with gemini-2.5-flash\n",
      "Cost: $0.00506990 , or 0.51¢\n",
      "Time: 9.76s\n"
     ]
    },
    {
     "data": {
      "image/svg+xml": [
       "<svg xmlns=\"http://www.w3.org/2000/svg\" width=\"800\" height=\"600\" viewBox=\"0 0 800 600\">\n",
       "  <defs>\n",
       "    <style>\n",
       "      .pelican-fill { fill: #f3e9d2; } /* Light cream for pelican body */\n",
       "      .beak-fill { fill: #fbbd08; } /* Orange-yellow for beak */\n",
       "      .pouch-fill { fill: #fecf3a; } /* Darker yellow for pouch */\n",
       "      .eye-fill { fill: #4a4a4a; }\n",
       "      .bike-frame { stroke: #4a4a4a; stroke-width: 8; fill: none; stroke-linecap: round; stroke-linejoin: round; }\n",
       "      .wheel-rim { stroke: #4a4a4a; stroke-width: 8; fill: none; }\n",
       "      .wheel-spoke { stroke: #8a8a8a; stroke-width: 2; }\n",
       "      .pedal-fill { fill: #4a4a4a; }\n",
       "      .handlebar-grip { fill: #6a6a6a; }\n",
       "    </style>\n",
       "  </defs>\n",
       "\n",
       "  <!-- Ground -->\n",
       "  <line x1=\"0\" y1=\"550\" x2=\"800\" y2=\"550\" stroke=\"#8c6d48\" stroke-width=\"20\"/>\n",
       "\n",
       "  <!-- Bicycle - Rear Wheel -->\n",
       "  <circle cx=\"250\" cy=\"450\" r=\"80\" class=\"wheel-rim\"/>\n",
       "  <circle cx=\"250\" cy=\"450\" r=\"10\" class=\"pedal-fill\"/> <!-- Axle -->\n",
       "  <line x1=\"250\" y1=\"370\" x2=\"250\" y2=\"450\" class=\"wheel-spoke\"/>\n",
       "  <line x1=\"250\" y1=\"530\" x2=\"250\" y2=\"450\" class=\"wheel-spoke\"/>\n",
       "  <line x1=\"180.7\" y1=\"479.3\" x2=\"250\" y2=\"450\" class=\"wheel-spoke\" transform=\"rotate(45 250 450)\"/>\n",
       "  <line x1=\"319.3\" y1=\"420.7\" x2=\"250\" y2=\"450\" class=\"wheel-spoke\" transform=\"rotate(45 250 450)\"/>\n",
       "  <line x1=\"180.7\" y1=\"420.7\" x2=\"250\" y2=\"450\" class=\"wheel-spoke\" transform=\"rotate(-45 250 450)\"/>\n",
       "  <line x1=\"319.3\" y1=\"479.3\" x2=\"250\" y2=\"450\" class=\"wheel-spoke\" transform=\"rotate(-45 250 450)\"/>\n",
       "\n",
       "\n",
       "  <!-- Bicycle - Frame -->\n",
       "  <path d=\"M250,450 L350,350 L450,350 L550,450 M350,350 L300,450 M450,350 L480,280 L520,280\" class=\"bike-frame\"/>\n",
       "  <line x1=\"300\" y1=\"450\" x2=\"330\" y2=\"490\" stroke=\"#4a4a4a\" stroke-width=\"8\" stroke-linecap=\"round\"/> <!-- Pedal crank -->\n",
       "  <circle cx=\"330\" cy=\"490\" r=\"15\" class=\"pedal-fill\"/> <!-- Pedal -->\n",
       "  <line x1=\"350\" y1=\"350\" x2=\"400\" y2=\"250\" class=\"bike-frame\"/>\n",
       "  <rect x=\"470\" y=\"270\" width=\"30\" height=\"20\" rx=\"5\" ry=\"5\" class=\"handlebar-grip\"/>\n",
       "\n",
       "  <!-- Bicycle - Front Wheel -->\n",
       "  <circle cx=\"550\" cy=\"450\" r=\"80\" class=\"wheel-rim\"/>\n",
       "  <circle cx=\"550\" cy=\"450\" r=\"10\" class=\"pedal-fill\"/> <!-- Axle -->\n",
       "  <line x1=\"550\" y1=\"370\" x2=\"550\" y2=\"450\" class=\"wheel-spoke\"/>\n",
       "  <line x1=\"550\" y1=\"530\" x2=\"550\" y2=\"450\" class=\"wheel-spoke\"/>\n",
       "  <line x1=\"480.7\" y1=\"479.3\" x2=\"550\" y2=\"450\" class=\"wheel-spoke\" transform=\"rotate(45 550 450)\"/>\n",
       "  <line x1=\"619.3\" y1=\"420.7\" x2=\"550\" y2=\"450\" class=\"wheel-spoke\" transform=\"rotate(45 550 450)\"/>\n",
       "  <line x1=\"480.7\" y1=\"420.7\" x2=\"550\" y2=\"450\" class=\"wheel-spoke\" transform=\"rotate(-45 550 450)\"/>\n",
       "  <line x1=\"619.3\" y1=\"479.3\" x2=\"550\" y2=\"450\" class=\"wheel-spoke\" transform=\"rotate(-45 550 450)\"/>\n",
       "\n",
       "\n",
       "  <!-- Pelican Body -->\n",
       "  <path d=\"M400,250             C380,180 450,150 500,180             C550,210 520,280 480,300             L400,250 Z\" class=\"pelican-fill\"/>\n",
       "  <ellipse cx=\"440\" cy=\"270\" rx=\"60\" ry=\"90\" transform=\"rotate(-20 440 270)\" class=\"pelican-fill\"/>\n",
       "\n",
       "  <!-- Pelican Wings (simplified) -->\n",
       "  <path d=\"M400,250 Q380,200 350,220 L380,280 Q400,290 440,270 Z\" class=\"pelican-fill\" transform=\"rotate(-10 400 250)\"/>\n",
       "  <path d=\"M460,250 Q480,200 510,220 L480,280 Q460,290 420,270 Z\" class=\"pelican-fill\" transform=\"rotate(10 460 250)\"/>\n",
       "\n",
       "  <!-- Pelican Beak and Pouch -->\n",
       "  <path d=\"M500,180 C550,150 600,180 620,220 L600,250 C580,260 520,240 500,180 Z\" class=\"beak-fill\"/>\n",
       "  <path d=\"M520,230 C530,260 560,290 590,270 C560,250 540,240 520,230 Z\" class=\"pouch-fill\"/>\n",
       "\n",
       "  <!-- Pelican Eye -->\n",
       "  <circle cx=\"500\" cy=\"190\" r=\"8\" class=\"eye-fill\"/>\n",
       "  <circle cx=\"502\" cy=\"188\" r=\"3\" fill=\"#fff\"/> <!-- Highlight -->\n",
       "\n",
       "  <!-- Pelican Legs (simplified, just above pedals) -->\n",
       "  <line x1=\"390\" y1=\"300\" x2=\"350\" y2=\"350\" stroke=\"#f3e9d2\" stroke-width=\"8\" stroke-linecap=\"round\"/>\n",
       "  <line x1=\"450\" y1=\"300\" x2=\"400\" y2=\"380\" stroke=\"#f3e9d2\" stroke-width=\"8\" stroke-linecap=\"round\"/>\n",
       "\n",
       "</svg>"
      ],
      "text/plain": [
       "<IPython.core.display.SVG object>"
      ]
     },
     "metadata": {},
     "output_type": "display_data"
    }
   ],
   "source": [
    "generate_pelican(GEMINI_2_5_FLASH, 0, \"pelican-flash-no-thinking.svg\")\n",
    "\n",
    "display(SVG(\"pelican-flash-no-thinking.svg\"))"
   ]
  },
  {
   "cell_type": "code",
   "execution_count": 23,
   "id": "9e42cf76",
   "metadata": {},
   "outputs": [
    {
     "name": "stdout",
     "output_type": "stream",
     "text": [
      "SVG generation with gemini-2.5-flash\n",
      "Cost: $0.04002240 , or 4.00¢\n",
      "Time: 64.75s\n"
     ]
    },
    {
     "data": {
      "image/svg+xml": [
       "<svg xmlns=\"http://www.w3.org/2000/svg\" width=\"800\" height=\"600\" viewBox=\"0 0 800 600\">\n",
       "  <defs>\n",
       "    <filter id=\"shadow\" x=\"-50%\" y=\"-50%\" width=\"200%\" height=\"200%\">\n",
       "      <feGaussianBlur in=\"SourceAlpha\" stdDeviation=\"4\"/>\n",
       "      <feOffset dx=\"4\" dy=\"4\" result=\"offsetblur\"/>\n",
       "      <feFlood flood-color=\"rgba(0,0,0,0.4)\" flood-opacity=\"1\"/>\n",
       "      <feComposite in2=\"offsetblur\" operator=\"in\"/>\n",
       "      <feComposite in2=\"SourceGraphic\" operator=\"over\"/>\n",
       "    </filter>\n",
       "  </defs>\n",
       "\n",
       "  <!-- Sky (light blue) -->\n",
       "  <rect x=\"0\" y=\"0\" width=\"800\" height=\"500\" fill=\"#87CEEB\"/>\n",
       "  \n",
       "  <!-- Ground (green) -->\n",
       "  <rect x=\"0\" y=\"500\" width=\"800\" height=\"100\" fill=\"#4CAF50\"/>\n",
       "  <path d=\"M0 500 Q 200 480 400 500 T 800 500\" fill=\"#4CAF50\" stroke=\"#388E3C\" stroke-width=\"2\"/>\n",
       "\n",
       "  <!-- Bicycle and Pelican group, shifted down to sit on the ground -->\n",
       "  <g transform=\"translate(0, 80)\"> \n",
       "    <!-- Bicycle -->\n",
       "    <g filter=\"url(#shadow)\">\n",
       "      <!-- Wheels -->\n",
       "      <circle cx=\"580\" cy=\"420\" r=\"80\" fill=\"#EEE\" stroke=\"black\" stroke-width=\"8\"/> <!-- Rear Wheel -->\n",
       "      <circle cx=\"580\" cy=\"420\" r=\"10\" fill=\"gray\"/> <!-- Rear Axle -->\n",
       "      <!-- Spokes for rear wheel -->\n",
       "      <line x1=\"580\" y1=\"340\" x2=\"580\" y2=\"500\" stroke=\"gray\" stroke-width=\"2\"/>\n",
       "      <line x1=\"510\" y1=\"420\" x2=\"650\" y2=\"420\" stroke=\"gray\" stroke-width=\"2\"/>\n",
       "      <line x1=\"525\" y1=\"365\" x2=\"635\" y2=\"475\" stroke=\"gray\" stroke-width=\"2\"/>\n",
       "      <line x1=\"525\" y1=\"475\" x2=\"635\" y2=\"365\" stroke=\"gray\" stroke-width=\"2\"/>\n",
       "\n",
       "      <circle cx=\"280\" cy=\"420\" r=\"80\" fill=\"#EEE\" stroke=\"black\" stroke-width=\"8\"/> <!-- Front Wheel -->\n",
       "      <circle cx=\"280\" cy=\"420\" r=\"10\" fill=\"gray\"/> <!-- Front Axle -->\n",
       "      <!-- Spokes for front wheel -->\n",
       "      <line x1=\"280\" y1=\"340\" x2=\"280\" y2=\"500\" stroke=\"gray\" stroke-width=\"2\"/>\n",
       "      <line x1=\"210\" y1=\"420\" x2=\"350\" y2=\"420\" stroke=\"gray\" stroke-width=\"2\"/>\n",
       "      <line x1=\"225\" y1=\"365\" x2=\"335\" y2=\"475\" stroke=\"gray\" stroke-width=\"2\"/>\n",
       "      <line x1=\"225\" y1=\"475\" x2=\"335\" y2=\"365\" stroke=\"gray\" stroke-width=\"2\"/>\n",
       "\n",
       "      <!-- Frame -->\n",
       "      <line x1=\"530\" y1=\"280\" x2=\"430\" y2=\"420\" stroke=\"black\" stroke-width=\"8\" stroke-linecap=\"round\"/> <!-- Seat Tube -->\n",
       "      <line x1=\"530\" y1=\"280\" x2=\"300\" y2=\"280\" stroke=\"black\" stroke-width=\"8\" stroke-linecap=\"round\"/> <!-- Top Tube -->\n",
       "      <line x1=\"300\" y1=\"280\" x2=\"430\" y2=\"420\" stroke=\"black\" stroke-width=\"8\" stroke-linecap=\"round\"/> <!-- Down Tube -->\n",
       "      <line x1=\"430\" y1=\"420\" x2=\"580\" y2=\"420\" stroke=\"black\" stroke-width=\"8\" stroke-linecap=\"round\"/> <!-- Chain Stay -->\n",
       "      <line x1=\"530\" y1=\"280\" x2=\"580\" y2=\"420\" stroke=\"black\" stroke-width=\"8\" stroke-linecap=\"round\"/> <!-- Seat Stay -->\n",
       "      \n",
       "      <!-- Fork -->\n",
       "      <line x1=\"300\" y1=\"280\" x2=\"300\" y2=\"350\" stroke=\"black\" stroke-width=\"8\" stroke-linecap=\"round\"/> <!-- Head Tube -->\n",
       "      <line x1=\"300\" y1=\"350\" x2=\"270\" y2=\"420\" stroke=\"black\" stroke-width=\"8\" stroke-linecap=\"round\"/> <!-- Fork Arm 1 -->\n",
       "      <line x1=\"300\" y1=\"350\" x2=\"290\" y2=\"420\" stroke=\"black\" stroke-width=\"8\" stroke-linecap=\"round\"/> <!-- Fork Arm 2 -->\n",
       "\n",
       "      <!-- Handlebars -->\n",
       "      <path d=\"M 300 280 L 270 250 Q 250 230 220 240 L 200 260\" fill=\"none\" stroke=\"black\" stroke-width=\"8\" stroke-linecap=\"round\"/>\n",
       "      <circle cx=\"200\" cy=\"260\" r=\"10\" fill=\"black\"/> <!-- Grips -->\n",
       "\n",
       "      <!-- Seat -->\n",
       "      <path d=\"M 530 280 Q 560 260 570 270 L 550 290 Z\" fill=\"black\" stroke=\"black\" stroke-width=\"2\"/>\n",
       "\n",
       "      <!-- Pedals & Crank -->\n",
       "      <circle cx=\"430\" cy=\"420\" r=\"15\" fill=\"black\"/> <!-- Crank center -->\n",
       "      <line x1=\"430\" y1=\"420\" x2=\"430\" y2=\"460\" stroke=\"black\" stroke-width=\"5\" stroke-linecap=\"round\"/> <!-- Crank arm -->\n",
       "      <rect x=\"420\" y=\"460\" width=\"20\" height=\"10\" fill=\"black\"/> <!-- Pedal -->\n",
       "      <line x1=\"430\" y1=\"420\" x2=\"430\" y2=\"380\" stroke=\"black\" stroke-width=\"5\" stroke-linecap=\"round\"/> <!-- Other crank arm -->\n",
       "      <rect x=\"420\" y=\"370\" width=\"20\" height=\"10\" fill=\"black\"/> <!-- Other pedal (behind) -->\n",
       "    </g>\n",
       "\n",
       "    <!-- Pelican -->\n",
       "    <g filter=\"url(#shadow)\">\n",
       "      <!-- Body -->\n",
       "      <ellipse cx=\"470\" cy=\"230\" rx=\"120\" ry=\"100\" fill=\"#F5F5DC\" stroke=\"black\" stroke-width=\"2\"/>\n",
       "      <!-- Wing -->\n",
       "      <path d=\"M 370 200 Q 350 150 400 130 C 450 110 500 180 470 230 Z\" fill=\"#F0F0D0\" stroke=\"black\" stroke-width=\"1\"/>\n",
       "      <!-- Neck -->\n",
       "      <path d=\"M 500 180 Q 530 80 570 80 L 580 130 Q 550 180 500 180 Z\" fill=\"#F5F5DC\" stroke=\"black\" stroke-width=\"2\"/>\n",
       "      <!-- Head -->\n",
       "      <circle cx=\"570\" cy=\"105\" r=\"40\" fill=\"#F5F5DC\" stroke=\"black\" stroke-width=\"2\"/>\n",
       "      <!-- Eye -->\n",
       "      <circle cx=\"585\" cy=\"95\" r=\"7\" fill=\"black\"/>\n",
       "      <circle cx=\"586\" cy=\"94\" r=\"2.5\" fill=\"white\"/>\n",
       "\n",
       "      <!-- Beak -->\n",
       "      <path d=\"M 600 100 Q 700 110 730 180 Q 740 190 730 200 Q 700 210 600 200 Q 590 190 600 100 Z\" fill=\"#FFC107\" stroke=\"black\" stroke-width=\"2\"/>\n",
       "      <!-- Pouch detail -->\n",
       "      <path d=\"M 610 190 Q 660 230 700 190\" fill=\"none\" stroke=\"black\" stroke-width=\"1\" stroke-dasharray=\"3 3\"/>\n",
       "      <path d=\"M 600 130 L 710 180\" fill=\"none\" stroke=\"black\" stroke-width=\"1\"/> <!-- Beak line -->\n",
       "\n",
       "      <!-- Legs (reaching pedals) -->\n",
       "      <!-- Left leg (on front pedal) -->\n",
       "      <line x1=\"430\" y1=\"300\" x2=\"430\" y2=\"460\" stroke=\"#8D6E63\" stroke-width=\"12\" stroke-linecap=\"round\"/>\n",
       "      <!-- Right leg (on back pedal) -->\n",
       "      <line x1=\"450\" y1=\"290\" x2=\"430\" y2=\"380\" stroke=\"#8D6E63\" stroke-width=\"12\" stroke-linecap=\"round\"/>\n",
       "\n",
       "      <!-- Feet on pedals -->\n",
       "      <path d=\"M 420 460 Q 410 470 420 480 L 440 480 Q 450 470 440 460 Z\" fill=\"#FF5722\" stroke=\"black\" stroke-width=\"1\"/>\n",
       "      <path d=\"M 415 370 Q 405 380 415 390 L 435 390 Q 445 380 435 370 Z\" fill=\"#FF5722\" stroke=\"black\" stroke-width=\"1\"/>\n",
       "    </g>\n",
       "  </g>\n",
       "</svg>"
      ],
      "text/plain": [
       "<IPython.core.display.SVG object>"
      ]
     },
     "metadata": {},
     "output_type": "display_data"
    }
   ],
   "source": [
    "generate_pelican(GEMINI_2_5_FLASH, -1, \"pelican-flash-thinking.svg\")\n",
    "\n",
    "display(SVG(\"pelican-flash-thinking.svg\"))"
   ]
  },
  {
   "cell_type": "code",
   "execution_count": 14,
   "id": "667c912b",
   "metadata": {},
   "outputs": [
    {
     "name": "stdout",
     "output_type": "stream",
     "text": [
      "SVG generation with gemini-2.5-pro\n",
      "Cost: $0.02589125 , or 2.59¢\n",
      "Time: 24.96s\n"
     ]
    },
    {
     "data": {
      "image/svg+xml": [
       "<svg xmlns=\"http://www.w3.org/2000/svg\" width=\"800\" height=\"600\" viewBox=\"0 0 800 600\" style=\"background-color: #e0f7fa;\">\n",
       "\n",
       "  <!-- Ground -->\n",
       "  <path d=\"M 0 550 L 800 550 L 800 600 L 0 600 Z\" fill=\"#a5d6a7\"/>\n",
       "  <path d=\"M 0 540 L 800 540\" stroke=\"#7cb342\" stroke-width=\"6\" stroke-linecap=\"round\"/>\n",
       "\n",
       "  <!-- Bicycle -->\n",
       "  <g id=\"bicycle\" transform=\"translate(150, 200)\">\n",
       "    <!-- Back Wheel -->\n",
       "    <circle cx=\"150\" cy=\"300\" r=\"80\" fill=\"none\" stroke=\"#546e7a\" stroke-width=\"8\"/>\n",
       "    <circle cx=\"150\" cy=\"300\" r=\"10\" fill=\"#546e7a\"/>\n",
       "    <!-- Spokes for Back Wheel -->\n",
       "    <g stroke=\"#90a4ae\" stroke-width=\"2\">\n",
       "      <line x1=\"150\" y1=\"300\" x2=\"150\" y2=\"220\"/>\n",
       "      <line x1=\"150\" y1=\"300\" x2=\"150\" y2=\"380\"/>\n",
       "      <line x1=\"150\" y1=\"300\" x2=\"230\" y2=\"300\"/>\n",
       "      <line x1=\"150\" y1=\"300\" x2=\"70\" y2=\"300\"/>\n",
       "      <line x1=\"150\" y1=\"300\" x2=\"206.5\" y2=\"243.5\"/>\n",
       "      <line x1=\"150\" y1=\"300\" x2=\"93.5\" y2=\"356.5\"/>\n",
       "      <line x1=\"150\" y1=\"300\" x2=\"206.5\" y2=\"356.5\"/>\n",
       "      <line x1=\"150\" y1=\"300\" x2=\"93.5\" y2=\"243.5\"/>\n",
       "    </g>\n",
       "\n",
       "    <!-- Front Wheel -->\n",
       "    <circle cx=\"450\" cy=\"300\" r=\"80\" fill=\"none\" stroke=\"#546e7a\" stroke-width=\"8\"/>\n",
       "    <circle cx=\"450\" cy=\"300\" r=\"10\" fill=\"#546e7a\"/>\n",
       "    <!-- Spokes for Front Wheel -->\n",
       "    <g stroke=\"#90a4ae\" stroke-width=\"2\">\n",
       "      <line x1=\"450\" y1=\"300\" x2=\"450\" y2=\"220\"/>\n",
       "      <line x1=\"450\" y1=\"300\" x2=\"450\" y2=\"380\"/>\n",
       "      <line x1=\"450\" y1=\"300\" x2=\"530\" y2=\"300\"/>\n",
       "      <line x1=\"450\" y1=\"300\" x2=\"370\" y2=\"300\"/>\n",
       "      <line x1=\"450\" y1=\"300\" x2=\"506.5\" y2=\"243.5\"/>\n",
       "      <line x1=\"450\" y1=\"300\" x2=\"393.5\" y2=\"356.5\"/>\n",
       "      <line x1=\"450\" y1=\"300\" x2=\"506.5\" y2=\"356.5\"/>\n",
       "      <line x1=\"450\" y1=\"300\" x2=\"393.5\" y2=\"243.5\"/>\n",
       "    </g>\n",
       "    \n",
       "    <!-- Frame -->\n",
       "    <g fill=\"none\" stroke=\"#d32f2f\" stroke-width=\"10\" stroke-linecap=\"round\" stroke-linejoin=\"round\">\n",
       "      <!-- Main triangle -->\n",
       "      <path d=\"M 150 300 L 300 180 L 300 300 Z\"/>\n",
       "      <!-- Seat tube -->\n",
       "      <line x1=\"150\" y1=\"300\" x2=\"225\" y2=\"150\"/>\n",
       "      <!-- Top tube -->\n",
       "      <line x1=\"225\" y1=\"150\" x2=\"400\" y2=\"180\"/>\n",
       "      <!-- Down tube -->\n",
       "      <line x1=\"300\" y1=\"300\" x2=\"400\" y2=\"180\"/>\n",
       "      <!-- Front fork -->\n",
       "      <line x1=\"400\" y1=\"180\" x2=\"450\" y2=\"300\"/>\n",
       "    </g>\n",
       "    \n",
       "    <!-- Pedals and Crank -->\n",
       "    <circle cx=\"300\" cy=\"300\" r=\"15\" fill=\"#546e7a\"/>\n",
       "    <g stroke=\"#546e7a\" stroke-width=\"6\" stroke-linecap=\"round\">\n",
       "      <line x1=\"300\" y1=\"300\" x2=\"270\" y2=\"340\"/>\n",
       "      <line x1=\"260\" y1=\"340\" x2=\"280\" y2=\"340\"/>\n",
       "      <line x1=\"300\" y1=\"300\" x2=\"330\" y2=\"260\"/>\n",
       "      <line x1=\"320\" y1=\"260\" x2=\"340\" y2=\"260\"/>\n",
       "    </g>\n",
       "    \n",
       "    <!-- Seat -->\n",
       "    <path d=\"M 200 140 h 50 l 10 15 h -70 l 10 -15 z\" fill=\"#3e2723\"/>\n",
       "    <line x1=\"225\" y1=\"150\" x2=\"225\" y2=\"145\" stroke=\"#546e7a\" stroke-width=\"6\"/>\n",
       "\n",
       "    <!-- Handlebars -->\n",
       "    <path d=\"M 400 180 Q 380 150, 410 130\" fill=\"none\" stroke=\"#546e7a\" stroke-width=\"8\" stroke-linecap=\"round\"/>\n",
       "    <path d=\"M 410 130 h 30\" stroke=\"#3e2723\" stroke-width=\"12\" stroke-linecap=\"round\"/>\n",
       "  </g>\n",
       "\n",
       "  <!-- Pelican -->\n",
       "  <g id=\"pelican\" transform=\"translate(300, 0)\">\n",
       "    <!-- Body -->\n",
       "    <path d=\"M 100 200               Q 50 250, 100 350               A 80 80 0 0 1 230 350               Q 280 250, 230 200               C 200 160, 130 160, 100 200 Z\" fill=\"#f5f5f5\" stroke=\"#bdbdbd\" stroke-width=\"2\"/>\n",
       "    \n",
       "    <!-- Wing -->\n",
       "    <path d=\"M 130 230              Q 180 180, 240 240              C 230 280, 180 290, 130 230 Z\" fill=\"#e0e0e0\" stroke=\"#bdbdbd\" stroke-width=\"2\" transform=\"rotate(-10, 180, 250)\"/>\n",
       "             \n",
       "    <!-- Head -->\n",
       "    <circle cx=\"230\" cy=\"150\" r=\"40\" fill=\"#f5f5f5\" stroke=\"#bdbdbd\" stroke-width=\"2\"/>\n",
       "    <path d=\"M 210 120 Q 230 110, 250 120\" fill=\"none\" stroke=\"#bdbdbd\" stroke-width=\"2\" stroke-linecap=\"round\"/>\n",
       "    \n",
       "    <!-- Eye -->\n",
       "    <circle cx=\"245\" cy=\"140\" r=\"5\" fill=\"#212121\"/>\n",
       "    <circle cx=\"246\" cy=\"139\" r=\"1.5\" fill=\"white\"/>\n",
       "    \n",
       "    <!-- Beak -->\n",
       "    <g id=\"beak\">\n",
       "      <!-- Upper Beak -->\n",
       "      <path d=\"M 265 155                 L 350 165                L 268 165 Z\" fill=\"#ffc107\" stroke=\"#fb8c00\" stroke-width=\"2\" stroke-linejoin=\"round\"/>\n",
       "      <!-- Pouch (Lower Beak) -->\n",
       "      <path d=\"M 268 165                 C 320 220, 360 210, 350 165                L 268 165 Z\" fill=\"#ffecb3\" stroke=\"#ffca28\" stroke-width=\"2\" stroke-linejoin=\"round\"/>\n",
       "    </g>\n",
       "    \n",
       "    <!-- Legs -->\n",
       "    <g stroke=\"#ff9800\" stroke-width=\"5\" stroke-linecap=\"round\">\n",
       "      <!-- Left Leg (on pedal) -->\n",
       "      <path d=\"M 160 340 Q 190 350, 200 390\" fill=\"none\"/>\n",
       "      <!-- Right Leg (on pedal) -->\n",
       "      <path d=\"M 180 340 Q 200 320, 230 300\" fill=\"none\"/>\n",
       "    </g>\n",
       "    <!-- Feet -->\n",
       "    <g fill=\"#ffb74d\">\n",
       "       <path d=\"M 195 390 l 10 0 l -5 8 z M 200 390 l 0 10 l 8 -5 z\"/>\n",
       "       <path d=\"M 225 300 l 10 0 l -5 -8 z M 230 300 l 0 -10 l 8 5 z\"/>\n",
       "    </g>\n",
       "    \n",
       "  </g>\n",
       "</svg>"
      ],
      "text/plain": [
       "<IPython.core.display.SVG object>"
      ]
     },
     "metadata": {},
     "output_type": "display_data"
    }
   ],
   "source": [
    "generate_pelican(GEMINI_2_5_PRO, 128, \"pelican-pro-minimal-thinking.svg\")\n",
    "\n",
    "display(SVG(\"pelican-pro-minimal-thinking.svg\"))"
   ]
  },
  {
   "cell_type": "code",
   "execution_count": 16,
   "id": "022b663e",
   "metadata": {},
   "outputs": [
    {
     "name": "stdout",
     "output_type": "stream",
     "text": [
      "SVG generation with gemini-2.5-pro\n",
      "Cost: $0.11421125 , or 11.42¢\n",
      "Time: 106.74s\n"
     ]
    },
    {
     "data": {
      "image/svg+xml": [
       "<svg xmlns=\"http://www.w3.org/2000/svg\" width=\"800\" height=\"600\" viewBox=\"0 0 800 600\">\n",
       "  <rect x=\"0\" y=\"0\" width=\"800\" height=\"600\" fill=\"#a8e6cf\"/>\n",
       "  <circle cx=\"100\" cy=\"100\" r=\"40\" fill=\"#fdfd96\"/>\n",
       "  <path d=\"M0 500 C 200 480, 600 520, 800 500 L 800 600 L 0 600 Z\" fill=\"#7dce82\"/>\n",
       "  <g id=\"bicycle\">\n",
       "    <g id=\"rear-wheel\" transform=\"translate(280, 420)\">\n",
       "      <circle r=\"85\" fill=\"#f0f0f0\" stroke=\"#333\" stroke-width=\"8\"/>\n",
       "      <circle r=\"10\" fill=\"#555\"/>\n",
       "      <g stroke=\"#777\" stroke-width=\"3\">\n",
       "        <line y2=\"-85\" transform=\"rotate(0)\"/> <line y2=\"-85\" transform=\"rotate(45)\"/>\n",
       "        <line y2=\"-85\" transform=\"rotate(90)\"/> <line y2=\"-85\" transform=\"rotate(135)\"/>\n",
       "        <line y2=\"-85\" transform=\"rotate(180)\"/> <line y2=\"-85\" transform=\"rotate(225)\"/>\n",
       "        <line y2=\"-85\" transform=\"rotate(270)\"/> <line y2=\"-85\" transform=\"rotate(315)\"/>\n",
       "      </g>\n",
       "    </g>\n",
       "    <g id=\"front-wheel\" transform=\"translate(580, 420)\">\n",
       "      <circle r=\"85\" fill=\"#f0f0f0\" stroke=\"#333\" stroke-width=\"8\"/>\n",
       "      <circle r=\"10\" fill=\"#555\"/>\n",
       "      <g stroke=\"#777\" stroke-width=\"3\">\n",
       "        <line y2=\"-85\" transform=\"rotate(20)\"/> <line y2=\"-85\" transform=\"rotate(65)\"/>\n",
       "        <line y2=\"-85\" transform=\"rotate(110)\"/> <line y2=\"-85\" transform=\"rotate(155)\"/>\n",
       "        <line y2=\"-85\" transform=\"rotate(200)\"/> <line y2=\"-85\" transform=\"rotate(245)\"/>\n",
       "        <line y2=\"-85\" transform=\"rotate(290)\"/> <line y2=\"-85\" transform=\"rotate(335)\"/>\n",
       "      </g>\n",
       "    </g>\n",
       "    <g id=\"frame\" stroke=\"#c0392b\" stroke-width=\"12\" fill=\"none\" stroke-linecap=\"round\" stroke-linejoin=\"round\">\n",
       "      <path d=\"M 280,420 l 135,-130 l 135,0\"/>\n",
       "      <path d=\"M 415,290 l 165,130\"/>\n",
       "      <path d=\"M 415,290 l 15,130\"/>\n",
       "      <path d=\"M 280,420 l 150,0\"/>\n",
       "      <path d=\"M 580,420 l -30,-140\"/>\n",
       "    </g>\n",
       "    <path d=\"M 395,280 h 40 l -5,-20 h -30 z\" fill=\"#4a2c2a\" stroke=\"#4a2c2a\" stroke-width=\"2\"/>\n",
       "    <path d=\"M 550,280 c -10,-30 30,-30 20,0\" stroke=\"#7f8c8d\" stroke-width=\"8\" fill=\"none\"/>\n",
       "    <rect x=\"560\" y=\"275\" width=\"25\" height=\"15\" rx=\"5\" fill=\"#555\"/>\n",
       "    <g transform=\"translate(430, 420)\">\n",
       "        <circle r=\"12\" fill=\"#555\" stroke=\"#333\" stroke-width=\"2\"/>\n",
       "        <g transform=\"rotate(30)\">\n",
       "          <line y1=\"0\" y2=\"60\" stroke=\"#555\" stroke-width=\"8\" stroke-linecap=\"round\"/>\n",
       "          <rect id=\"pedal-front\" x=\"-15\" y=\"60\" width=\"30\" height=\"12\" rx=\"3\" fill=\"#333\"/>\n",
       "          <line y1=\"0\" y2=\"-60\" stroke=\"#555\" stroke-width=\"8\" stroke-linecap=\"round\"/>\n",
       "          <rect id=\"pedal-back\" x=\"-15\" y=\"-72\" width=\"30\" height=\"12\" rx=\"3\" fill=\"#333\"/>\n",
       "        </g>\n",
       "    </g>\n",
       "  </g>\n",
       "  <g id=\"pelican\" stroke=\"#333\" stroke-width=\"3\">\n",
       "    <path d=\"M 400,320 C 350,340 340,300 390,290\" fill=\"#e0e0e0\" stroke-linejoin=\"round\" stroke-linecap=\"round\"/>\n",
       "    <g stroke=\"#f39c12\" stroke-width=\"14\" stroke-linecap=\"round\" fill=\"none\">\n",
       "        <path d=\"M 420,360 C 440,360 450,365 460,368\"/>\n",
       "        <path d=\"M 450,365 C 430,400 420,430 400,472\"/>\n",
       "    </g>\n",
       "    <path d=\"M 480,380 C 420,420 360,380 380,310 C 400,240 480,220 520,260 C 560,300 540,360 480,380 Z\" fill=\"#f5f5f5\"/>\n",
       "    <path d=\"M 490,310 C 520,300 550,290 565,288 L 575,295 L 565,305 L 555,300 Z\" fill=\"#f5f5f5\" stroke-linejoin=\"round\"/>\n",
       "    <g transform=\"translate(510, 210)\">\n",
       "      <path d=\"M 0,0 C 40,-40 80,-30 80,10 C 80,50 40,60 10,40 C -20,20 -20,-20 0,0 Z\" fill=\"#f5f5f5\"/>\n",
       "      <path d=\"M 20,-5 C 25,-25 45,-25 45,-5\" fill=\"none\" stroke-linecap=\"round\" stroke-width=\"2.5\"/>\n",
       "      <path d=\"M 30,-10 C 35,-30 55,-30 55,-10\" fill=\"none\" stroke-linecap=\"round\" stroke-width=\"2.5\"/>\n",
       "      <circle cx=\"55\" cy=\"10\" r=\"6\" fill=\"#333\"/>\n",
       "      <circle cx=\"56\" cy=\"9\" r=\"2\" fill=\"white\"/>\n",
       "    </g>\n",
       "    <g transform=\"translate(590, 220)\">\n",
       "        <path d=\"M 0,10 C 60,30 120,20 120,0 C 100,50 40,60 0,10 Z\" fill=\"#f9e79f\" stroke-linejoin=\"round\"/>\n",
       "        <path d=\"M 0,10 C 60,-5 125,-10 120,0\" fill=\"#f5b041\" stroke-linecap=\"round\"/>\n",
       "    </g>\n",
       "  </g>\n",
       "</svg>"
      ],
      "text/plain": [
       "<IPython.core.display.SVG object>"
      ]
     },
     "metadata": {},
     "output_type": "display_data"
    }
   ],
   "source": [
    "generate_pelican(GEMINI_2_5_PRO, -1, \"pelican-pro-thinking.svg\")\n",
    "\n",
    "display(SVG(\"pelican-pro-thinking.svg\"))"
   ]
  },
  {
   "cell_type": "markdown",
   "id": "67d12a8c",
   "metadata": {},
   "source": [
    "### 👉 Takeaways\n",
    "\n",
    "Subjective SVG quality rating:\n",
    "\n",
    "- Gemini 2.5 Pro is the best\n",
    "- Gemini 2.5 Flash with thinking enabled also looks good"
   ]
  }
 ],
 "metadata": {
  "kernelspec": {
   "display_name": "venv",
   "language": "python",
   "name": "python3"
  },
  "language_info": {
   "codemirror_mode": {
    "name": "ipython",
    "version": 3
   },
   "file_extension": ".py",
   "mimetype": "text/x-python",
   "name": "python",
   "nbconvert_exporter": "python",
   "pygments_lexer": "ipython3",
   "version": "3.13.3"
  }
 },
 "nbformat": 4,
 "nbformat_minor": 5
}
