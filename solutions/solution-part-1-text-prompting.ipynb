{
  "cells": [
    {
      "cell_type": "markdown",
      "metadata": {
        "id": "XSc7AU66mJSC"
      },
      "source": [
        "##### Copyright 2025 Patrick Loeber, Google LLC"
      ]
    },
    {
      "cell_type": "code",
      "execution_count": null,
      "metadata": {
        "cellView": "form",
        "id": "tc6tjo9vmJSE"
      },
      "outputs": [],
      "source": [
        "\n",
        "#@title Licensed under the Apache License, Version 2.0 (the \"License\");\n",
        "# you may not use this file except in compliance with the License.\n",
        "# You may obtain a copy of the License at\n",
        "#\n",
        "# https://www.apache.org/licenses/LICENSE-2.0\n",
        "#\n",
        "# Unless required by applicable law or agreed to in writing, software\n",
        "# distributed under the License is distributed on an \"AS IS\" BASIS,\n",
        "# WITHOUT WARRANTIES OR CONDITIONS OF ANY KIND, either express or implied.\n",
        "# See the License for the specific language governing permissions and\n",
        "# limitations under the License."
      ]
    },
    {
      "cell_type": "markdown",
      "metadata": {
        "id": "CuC_VSKMcEt6"
      },
      "source": [
        "# Workshop: Build with Gemini (Part 1)\n",
        "\n",
        "<a target=\"_blank\" href=\"https://colab.research.google.com/github/patrickloeber/workshop-build-with-gemini/blob/main/notebooks/part-1-text-prompting.ipynb\"><img src=\"https://colab.research.google.com/assets/colab-badge.svg\" alt=\"Open In Colab\"/></a>\n",
        "\n",
        "This workshop teaches how to build with Gemini using the Gemini API and Python SDK.\n",
        "\n",
        "Course outline:\n",
        "\n",
        "- **Part1 (this notebook): Quickstart + Text prompting**\n",
        "  - Text understanding\n",
        "  - Streaming response\n",
        "  - Chats\n",
        "  - System prompts\n",
        "  - Config options\n",
        "  - Long context\n",
        "  - Token usage\n",
        "  - Final excercise: Chat with book\n",
        "\n",
        "- **[Part 2: Multimodal understanding (image, video, audio, docs, code)](https://github.com/patrickloeber/workshop-build-with-gemini/blob/main/notebooks/part-2-multimodal-understanding.ipynb)**\n",
        "\n",
        "- **[Part 3: Thinking models + agentic capabilities (tool usage)](https://github.com/patrickloeber/workshop-build-with-gemini/blob/main/notebooks/part-3-thinking-and-tools.ipynb)**"
      ]
    },
    {
      "cell_type": "markdown",
      "metadata": {
        "id": "avRVsnMMJvof"
      },
      "source": [
        "## 0. Use the Google AI Studio as playground\n",
        "\n",
        "Explore and play with all models in the [Google AI Studio](https://aistudio.google.com/apikey).\n"
      ]
    },
    {
      "cell_type": "markdown",
      "metadata": {
        "id": "jnl6q8tMcpwU"
      },
      "source": [
        "## 1. Setup\n"
      ]
    },
    {
      "cell_type": "markdown",
      "metadata": {
        "id": "DD1kaBP4dnZG"
      },
      "source": [
        "Get a free API key in the [Google AI Studio](https://aistudio.google.com/apikey)"
      ]
    },
    {
      "cell_type": "code",
      "execution_count": 1,
      "metadata": {
        "id": "j6raUs82eYfk"
      },
      "outputs": [],
      "source": [
        "from google.colab import userdata\n",
        "\n",
        "GOOGLE_API_KEY = userdata.get('GOOGLE_API_KEY')"
      ]
    },
    {
      "cell_type": "markdown",
      "metadata": {
        "id": "yKjUEGGzdp87"
      },
      "source": [
        "Install the [Google Gen AI Python SDK](https://github.com/googleapis/python-genai)"
      ]
    },
    {
      "cell_type": "code",
      "execution_count": 2,
      "metadata": {
        "colab": {
          "base_uri": "https://localhost:8080/"
        },
        "id": "Y4d9NjqNeAXx",
        "outputId": "0970aed7-9f27-4146-aa6d-13e1878d1899"
      },
      "outputs": [
        {
          "name": "stdout",
          "output_type": "stream",
          "text": [
            "\u001b[?25l   \u001b[90m━━━━━━━━━━━━━━━━━━━━━━━━━━━━━━━━━━━━━━━━\u001b[0m \u001b[32m0.0/159.7 kB\u001b[0m \u001b[31m?\u001b[0m eta \u001b[36m-:--:--\u001b[0m\r\u001b[2K   \u001b[90m━━━━━━━━━━━━━━━━━━━━━━━━━━━━━━━━━━━━━━━━\u001b[0m \u001b[32m159.7/159.7 kB\u001b[0m \u001b[31m4.0 MB/s\u001b[0m eta \u001b[36m0:00:00\u001b[0m\n",
            "\u001b[?25h"
          ]
        }
      ],
      "source": [
        "%pip install -q -U google-genai"
      ]
    },
    {
      "cell_type": "markdown",
      "metadata": {
        "id": "d6b7d1FleDuz"
      },
      "source": [
        "Configure Client"
      ]
    },
    {
      "cell_type": "code",
      "execution_count": 3,
      "metadata": {
        "id": "o6Uort3heUqT"
      },
      "outputs": [],
      "source": [
        "from google import genai\n",
        "from google.genai import types\n",
        "\n",
        "client = genai.Client(api_key=GOOGLE_API_KEY)"
      ]
    },
    {
      "cell_type": "markdown",
      "metadata": {
        "id": "1P2KmoPSgRxO"
      },
      "source": [
        "Configure model. See all [models](https://ai.google.dev/gemini-api/docs/models)"
      ]
    },
    {
      "cell_type": "code",
      "execution_count": 4,
      "metadata": {
        "id": "0qcgiiP7gO-6"
      },
      "outputs": [],
      "source": [
        "MODEL = \"gemini-2.0-flash\""
      ]
    },
    {
      "cell_type": "markdown",
      "metadata": {
        "id": "LLsGbeGec8iF"
      },
      "source": [
        "## 2. Send your first prompt"
      ]
    },
    {
      "cell_type": "code",
      "execution_count": 5,
      "metadata": {
        "colab": {
          "base_uri": "https://localhost:8080/"
        },
        "id": "e57RFdZ6dRro",
        "outputId": "c0987493-7979-48d7-8275-47bd55f7f819"
      },
      "outputs": [
        {
          "name": "stdout",
          "output_type": "stream",
          "text": [
            "Okay, here are 3 names for a vegan restaurant, with a little explanation of each:\n",
            "\n",
            "1.  **The Rooted Table:** This name evokes a sense of groundedness, naturalness, and connection to the earth, which aligns well with vegan values. \"Table\" suggests a place of community and sharing a meal.\n",
            "\n",
            "2.  **Verdant Spoon:** \"Verdant\" means green and flourishing, representing plant-based ingredients. \"Spoon\" is simple, inviting, and directly related to eating. This name is a bit more sophisticated and suggests fresh, vibrant flavors.\n",
            "\n",
            "3.  **Bloom Eats:** \"Bloom\" suggests growth, life, and the beauty of plants. \"Eats\" is casual and approachable, making it feel like a welcoming and accessible restaurant for everyone.\n",
            "\n"
          ]
        }
      ],
      "source": [
        "response = client.models.generate_content(\n",
        "    model=MODEL,\n",
        "    contents=\"Create 3 names for a vegan restaurant\"\n",
        ")\n",
        "\n",
        "print(response.text)"
      ]
    },
    {
      "cell_type": "markdown",
      "metadata": {
        "id": "-rfjqevtmRBO"
      },
      "source": [
        "#### **!! Exercise !!**\n",
        "- Send a few more prompts\n",
        "  - Tell Gemini to write a blog post about the transformers architecture\n",
        "  - Ask Gemini to explain list comprehension in Python\n",
        "- Experiment with models:\n",
        "  - Try Gemini 2.0 Flash-Lite\n",
        "  - Try Gemini 2.5 Pro Exp"
      ]
    },
    {
      "cell_type": "code",
      "execution_count": 6,
      "metadata": {
        "id": "l4Zj8kiIoRqn"
      },
      "outputs": [],
      "source": [
        "model_id = \"gemini-2.5-pro-exp-03-25\"  # paid tier with higher rate limits: gemini-2.5-pro-preview-03-25\n",
        "model_id = \"gemini-2.0-flash-lite\""
      ]
    },
    {
      "cell_type": "markdown",
      "metadata": {
        "id": "vHqnTYJFdSlG"
      },
      "source": [
        "## 3. Text understanding"
      ]
    },
    {
      "cell_type": "markdown",
      "metadata": {
        "id": "WHRVaK0-tCE_"
      },
      "source": [
        "The simplest way to generate text is to provide the model with a text-only prompt. `contents` can be a single prompt, a list of prompts, or a combination of multimodal inputs."
      ]
    },
    {
      "cell_type": "code",
      "execution_count": 7,
      "metadata": {
        "colab": {
          "base_uri": "https://localhost:8080/"
        },
        "id": "A_HqjSiFsUQ2",
        "outputId": "d17984d4-46ad-4af4-94e1-b326481771d4"
      },
      "outputs": [
        {
          "name": "stdout",
          "output_type": "stream",
          "text": [
            "Okay, here are 3 name ideas for a vegan restaurant in Berlin, keeping in mind Berlin's vibe (often described as hip, international, and a bit edgy) and the focus on veganism:\n",
            "\n",
            "1.  **Spree Sprouts:**\n",
            "    *   **Why it works:**  Combines the name of Berlin's river (Spree) with the idea of fresh, growing plant-based food. It's catchy, memorable, and suggests a connection to the city.\n",
            "2.  **Kiez Kitchen:**\n",
            "    *   **Why it works:** Uses the German word \"Kiez,\" referring to the local neighborhoods of Berlin. \"Kiez Kitchen\" evokes a sense of community, a local hangout, and homemade (plant-based) cooking.\n",
            "3.  **The Green Grips:**\n",
            "    *   **Why it works:** A more modern and playful name. \"Grips\" has a slightly edgy feel, suggesting an interesting and confident take on vegan food. \"Green Grips\" is short, memorable, and hints at wholesome, plant-based ingredients.\n",
            "\n",
            "I tried to balance Berlin's character with the vegan theme in these suggestions. Good luck with your restaurant!\n",
            "\n"
          ]
        }
      ],
      "source": [
        "response = client.models.generate_content(\n",
        "    model=MODEL,\n",
        "    #contents=\"Create 3 names for a vegan restaurant\",\n",
        "    #contents=[\"Create 3 names for a vegan restaurant\"],\n",
        "    contents=[\"Create 3 names for a vegan restaurant\", \"city: Berlin\"]\n",
        ")\n",
        "\n",
        "print(response.text)"
      ]
    },
    {
      "cell_type": "markdown",
      "metadata": {
        "id": "itCzXz1BiG5g"
      },
      "source": [
        "#### Streaming response\n",
        "\n",
        "By default, the model returns a response after completing the entire text generation process. You can achieve faster interactions by using streaming to return outputs as they're generated."
      ]
    },
    {
      "cell_type": "code",
      "execution_count": 8,
      "metadata": {
        "colab": {
          "base_uri": "https://localhost:8080/"
        },
        "id": "7d6HzwfZdWbt",
        "outputId": "e4ea9112-a647-4a4a-a13d-4121b0d38f29"
      },
      "outputs": [
        {
          "name": "stdout",
          "output_type": "stream",
          "text": [
            "Alright, let's break down how AI works, without getting *too* technical.  Think of it as teaching a computer to do things that normally require human intelligence.  Here's a general overview:\n",
            "\n",
            "**Core Idea: Pattern Recognition and Prediction**\n",
            "\n",
            "At its heart, most modern AI is about recognizing patterns in data and using those patterns to make predictions or decisions. It's like how you learned to recognize a dog: you saw many dogs, noticed common features (fur, tail, four legs), and now you can identify a new dog even if you've never seen that particular breed before. AI learns in a similar way, but on a much larger scale and often with more complex patterns.\n",
            "\n",
            "**Key Components & Concepts:**\n",
            "\n",
            "1. **Data:** This is the fuel that powers AI. The more relevant and high-quality data you have, the better the AI will perform.  Data can be anything:\n",
            "    *   **Text:**  Articles, books, social media posts, code.\n",
            "    *   **Images:**  Photos, videos, scans, drawings.\n",
            "    *   **Audio:**  Speech, music, sound effects.\n",
            "    *   **Numerical Data:**  Statistics, sensor readings, financial data.\n",
            "    *   **Categorical Data:**  Colors, types of products, geographic regions.\n",
            "\n",
            "2. **Algorithms (The Instructions):** These are the sets of rules and mathematical formulas that tell the AI how to process the data.  Different types of algorithms are used for different tasks.  Some common examples include:\n",
            "    *   **Machine Learning (ML):**  The most common type of AI right now.  Instead of being explicitly programmed, ML algorithms *learn* from data.  They improve their performance over time as they are exposed to more data.\n",
            "        *   **Supervised Learning:** The algorithm is trained on a *labeled* dataset, meaning the correct answer is provided for each input.  Think of it like teaching a child by showing them pictures of cats and dogs and telling them which is which.  The algorithm learns to associate features (e.g., pointy ears, wagging tail) with the correct label (cat or dog).  Used for tasks like classification (categorizing things) and regression (predicting continuous values).\n",
            "        *   **Unsupervised Learning:**  The algorithm is trained on an *unlabeled* dataset. It must find patterns and structures in the data on its own, without any guidance.  Think of it like giving a child a pile of blocks and letting them figure out how to group them.  Used for tasks like clustering (grouping similar data points) and dimensionality reduction (simplifying data).\n",
            "        *   **Reinforcement Learning:** The algorithm learns by interacting with an environment and receiving rewards or penalties for its actions. Think of it like training a dog with treats.  The algorithm tries to maximize its rewards by learning the optimal strategy.  Used for tasks like game playing and robotics.\n",
            "    *   **Deep Learning (DL):**  A subfield of machine learning that uses artificial neural networks with many layers (hence \"deep\"). These networks are inspired by the structure of the human brain and are particularly good at processing complex data like images, audio, and text.\n",
            "        *   **Neural Networks:**  Consist of interconnected nodes (neurons) that process information.  Each connection has a weight associated with it, which represents the strength of the connection.  The network learns by adjusting these weights to improve its performance.\n",
            "    *   **Rule-Based Systems:** These systems use a set of pre-defined rules to make decisions. For example, a simple spam filter might have a rule that says \"If an email contains the word 'viagra' and comes from an unknown sender, mark it as spam.\"  While simple to understand, they are often inflexible and require constant manual updates.\n",
            "    *   **Genetic Algorithms:**  Inspired by natural selection, these algorithms use a population of candidate solutions and iteratively improve them through processes like mutation and crossover. Useful for optimization problems.\n",
            "\n",
            "3. **Training:** This is the process of feeding the AI algorithm data and allowing it to learn the underlying patterns.  During training, the algorithm adjusts its internal parameters (e.g., weights in a neural network) to minimize errors and improve its accuracy.  The training process can be very computationally intensive and time-consuming.\n",
            "\n",
            "4. **Inference (or Prediction):** Once the AI is trained, it can be used to make predictions or decisions on new, unseen data. This is called inference.  For example, a trained image recognition AI can be used to identify objects in new photos.\n",
            "\n",
            "**A Simplified Example: Email Spam Filter**\n",
            "\n",
            "Let's say we want to build a spam filter using machine learning.\n",
            "\n",
            "1.  **Data:** We collect a large dataset of emails, labeled as either \"spam\" or \"not spam\" (ham).  Each email is broken down into features, like the words it contains, the sender's address, and the presence of links.\n",
            "2.  **Algorithm:** We choose a supervised learning algorithm like a Naive Bayes classifier.  This algorithm calculates the probability of an email being spam based on the presence of certain words.  For example, it might learn that emails containing the word \"viagra\" have a high probability of being spam.\n",
            "3.  **Training:** We feed the labeled emails to the algorithm. The algorithm learns the relationship between the features and the spam/not spam label.  It adjusts its internal parameters to improve its accuracy in classifying emails.\n",
            "4.  **Inference:** When a new email arrives, the algorithm analyzes its features (words, sender, etc.) and uses the knowledge it gained during training to predict whether the email is spam or not.  It then takes action, such as moving the email to the spam folder.\n",
            "\n",
            "**Different Types of AI:**\n",
            "\n",
            "*   **Narrow or Weak AI:** Designed for a specific task. Examples: spam filters, recommendation systems, voice assistants like Siri or Alexa, and self-driving cars. This is the type of AI we primarily use today.\n",
            "*   **General or Strong AI (AGI):** Hypothetical AI with human-level intelligence, capable of performing any intellectual task that a human being can.  This does not currently exist.\n",
            "*   **Super AI:** Hypothetical AI that surpasses human intelligence in all aspects.  This is purely theoretical and often seen in science fiction.\n",
            "\n",
            "**Important Considerations:**\n",
            "\n",
            "*   **Bias:**  AI algorithms can inherit biases from the data they are trained on. This can lead to unfair or discriminatory outcomes.  For example, if an AI is trained on a dataset of faces that is predominantly white, it may perform poorly on faces of other ethnicities.\n",
            "*   **Explainability:**  Some AI algorithms, like deep neural networks, are very complex and difficult to understand. This can make it hard to explain why they made a particular decision, which can be a problem in situations where transparency is important (e.g., loan applications).\n",
            "*   **Ethics:**  AI raises a number of ethical concerns, such as job displacement, privacy, and the potential for misuse.\n",
            "\n",
            "**In summary:** AI works by using algorithms to analyze data, identify patterns, and make predictions or decisions.  The type of AI used depends on the specific task and the available data.  While AI has made significant progress in recent years, it is still a rapidly evolving field with many challenges and opportunities.\n",
            "\n",
            "This explanation provides a good foundation. If you want to delve deeper into specific areas like neural networks, reinforcement learning, or natural language processing, let me know, and I can provide more details.\n"
          ]
        }
      ],
      "source": [
        "response = client.models.generate_content_stream(\n",
        "    model=MODEL,\n",
        "    contents=[\"Explain how AI works\"]\n",
        ")\n",
        "\n",
        "for chunk in response:\n",
        "    print(chunk.text, end=\"\")"
      ]
    },
    {
      "cell_type": "markdown",
      "metadata": {
        "id": "LZjfCkzSdcEc"
      },
      "source": [
        "#### Chat\n",
        "\n",
        "The SDK chat class provides an interface to keep track of conversation history. Behind the scenes it uses the same `generate_content` method."
      ]
    },
    {
      "cell_type": "code",
      "execution_count": 9,
      "metadata": {
        "colab": {
          "base_uri": "https://localhost:8080/"
        },
        "id": "BCI8O9Ldjn6q",
        "outputId": "ff023acd-e7db-4cdf-b4e8-e24271525f9b"
      },
      "outputs": [
        {
          "name": "stdout",
          "output_type": "stream",
          "text": [
            "Okay, that's nice to know! Tell me more about your dogs. What are their names and breeds? Do they get along well? I'm happy to chat about them!\n",
            "\n"
          ]
        }
      ],
      "source": [
        "chat = client.chats.create(model=MODEL)\n",
        "\n",
        "response = chat.send_message(\"I have 2 dogs in my house.\")\n",
        "print(response.text)"
      ]
    },
    {
      "cell_type": "code",
      "execution_count": 10,
      "metadata": {
        "colab": {
          "base_uri": "https://localhost:8080/"
        },
        "id": "mmfMuI44Kev2",
        "outputId": "3125acf8-1483-42f3-ee19-1f855adb83dd"
      },
      "outputs": [
        {
          "name": "stdout",
          "output_type": "stream",
          "text": [
            "Two poodles! That's wonderful! Poodles are such intelligent and elegant dogs. Are they Standard, Miniature, or Toy Poodles? What are their names and personalities like? I'd love to hear more about them.\n",
            "\n"
          ]
        }
      ],
      "source": [
        "response = chat.send_message(\"I have 2 poodles\")\n",
        "print(response.text)"
      ]
    },
    {
      "cell_type": "markdown",
      "metadata": {
        "id": "E_MkOG6uLs75"
      },
      "source": [
        "#### Parameters\n",
        "\n",
        "Every prompt you send to the model includes parameters that control how the model generates responses. You can configure these parameters, or let the model use the default options."
      ]
    },
    {
      "cell_type": "code",
      "execution_count": 11,
      "metadata": {
        "colab": {
          "base_uri": "https://localhost:8080/"
        },
        "id": "J_jk93Z-Lum-",
        "outputId": "db565ae1-941b-4492-c560-92fd9e79a60c"
      },
      "outputs": [
        {
          "name": "stdout",
          "output_type": "stream",
          "text": [
            "Explaining how AI works is like explaining how the human brain works – it's incredibly complex and there are many different approaches and levels of understanding.\n"
          ]
        }
      ],
      "source": [
        "response = client.models.generate_content(\n",
        "    model=MODEL,\n",
        "    contents=[\"Explain how AI works\"],\n",
        "    config=types.GenerateContentConfig(\n",
        "        max_output_tokens=30,\n",
        "        temperature=1.0,\n",
        "        top_p=0.95,\n",
        "        top_k=40,\n",
        "        stop_sequences=None,\n",
        "        seed=1234,\n",
        "    )\n",
        ")\n",
        "print(response.text)"
      ]
    },
    {
      "cell_type": "markdown",
      "metadata": {
        "id": "DPyrJ9ul7yuv"
      },
      "source": [
        "- `max_output_tokens`: Sets the maximum number of tokens to include in a candidate.\n",
        "- `temperature`: Controls the randomness of the output. Use higher values for more creative responses, and lower values for more deterministic responses. Values can range from [0.0, 2.0].\n",
        "- `top_p`: Changes how the model selects tokens for output. Tokens are selected from the most to least probable until the sum of their probabilities equals the top_p value.\n",
        "- `top_k`: Changes how the model selects tokens for output. A top_k of 1 means the selected token is the most probable among all the tokens in the model's vocabulary, while a top_k of 3 means that the next token is selected from among the 3 most probable using the temperature. Tokens are further filtered based on top_p with the final token selected using temperature sampling.\n",
        "- `stop_sequences`: List of strings  (up to 5) that tells the model to stop generating text if one of the strings is encountered in the response. If specified, the API will stop at the first appearance of a stop sequence.\n",
        "- `seed`: If specified, the model makes a best effort to provide the same response for repeated requests. By default, a random number is used."
      ]
    },
    {
      "cell_type": "markdown",
      "metadata": {
        "id": "sG9JgfKF8nvr"
      },
      "source": [
        "#### System instructions\n",
        "\n",
        "System instructions let you steer the behavior of a model based on your specific use case. When you provide system instructions, you give the model additional context to help it understand the task and generate more customized responses. The model should adhere to the system instructions over the full interaction with the user, enabling you to specify product-level behavior separate from the prompts provided by end users."
      ]
    },
    {
      "cell_type": "code",
      "execution_count": 12,
      "metadata": {
        "colab": {
          "base_uri": "https://localhost:8080/"
        },
        "id": "CayVOonC8st5",
        "outputId": "a96fb99c-b8f7-4e41-a82d-127b8a60279e"
      },
      "outputs": [
        {
          "name": "stdout",
          "output_type": "stream",
          "text": [
            "Ah, a greeting! And a pleasant one at that. To what do I owe the pleasure of this conversation? Come, sit, sit. Would you care for a lemon drop? They are quite delightful and I find they often help to illuminate a difficult subject. Now, tell me, what troubles you, or perhaps, what wonder brings you here? Don't be shy, speak freely. My ears, and indeed, my wisdom, are at your disposal.\n",
            "\n"
          ]
        }
      ],
      "source": [
        "response = client.models.generate_content(\n",
        "    model=MODEL,\n",
        "    config=types.GenerateContentConfig(\n",
        "        system_instruction=\"You are a Dumbledore.\"),\n",
        "    contents=\"Hello there\"\n",
        ")\n",
        "\n",
        "print(response.text)"
      ]
    },
    {
      "cell_type": "markdown",
      "metadata": {
        "id": "kjdRzLbN-ANo"
      },
      "source": [
        "#### Long context and token counting\n",
        "\n",
        "Gemini 2.0 Flash and 2.5 Pro have a 1M token context window.\n",
        "\n",
        "In practice, 1 million tokens could look like:\n",
        "\n",
        "- 50,000 lines of code (with the standard 80 characters per line)\n",
        "- All the text messages you have sent in the last 5 years\n",
        "- 8 average length English novels\n",
        "- 1 hour of video data\n",
        "\n",
        "Let's feed in an entire book and ask questions:\n",
        "\n"
      ]
    },
    {
      "cell_type": "code",
      "execution_count": 13,
      "metadata": {
        "id": "b6pGhOkj-CFS"
      },
      "outputs": [],
      "source": [
        "import requests\n",
        "res = requests.get(\"https://gutenberg.org/cache/epub/16317/pg16317.txt\")\n",
        "book = res.text"
      ]
    },
    {
      "cell_type": "code",
      "execution_count": 14,
      "metadata": {
        "colab": {
          "base_uri": "https://localhost:8080/"
        },
        "id": "C0nnKaKC-NMu",
        "outputId": "bf3fb659-2b0c-4cbc-8c5e-f295f7fa7998"
      },
      "outputs": [
        {
          "name": "stdout",
          "output_type": "stream",
          "text": [
            "The Project Gutenberg eBook of The Art of Public Speaking\r\n",
            "    \r\n",
            "This ebook is for the use of anyon\n"
          ]
        }
      ],
      "source": [
        "print(book[:100])"
      ]
    },
    {
      "cell_type": "code",
      "execution_count": 15,
      "metadata": {
        "colab": {
          "base_uri": "https://localhost:8080/"
        },
        "id": "Ves9N2m-_k-V",
        "outputId": "fd365b44-732b-40c5-b5c1-557424adac03"
      },
      "outputs": [
        {
          "name": "stdout",
          "output_type": "stream",
          "text": [
            "# charakters 979714\n",
            "# words 162461\n",
            "# tokens: ~216614\n"
          ]
        }
      ],
      "source": [
        "print(f\"# charakters {len(book)}\")\n",
        "print(f\"# words {len(book.split())}\")\n",
        "print(f\"# tokens: ~{int(len(book.split()) * 4/3)}\")   # rule of thumb: 100tokens=75words"
      ]
    },
    {
      "cell_type": "code",
      "execution_count": 16,
      "metadata": {
        "colab": {
          "base_uri": "https://localhost:8080/"
        },
        "id": "6hmtD77wMXdF",
        "outputId": "2c654f1f-fd80-4c7a-9c67-5129f0343477"
      },
      "outputs": [
        {
          "name": "stdout",
          "output_type": "stream",
          "text": [
            "\"The Art of Public Speaking,\" authored by J. Berg Esenwein and Dale Carnegie, is a guide on developing effective public speaking skills.  It emphasizes that public speaking is about expressing oneself authentically and meaningfully, rather than simply following rigid rules or imitating others. The book advocates for self-development and the cultivation of a strong will to master one's thoughts, feelings, and physical abilities. It also highlights the importance of avoiding monotony, using emphasis strategically, varying pitch and pace, employing pauses for impact, and mastering inflection to convey meaning and emotion. The book covers practical aspects like voice control, distinctness of utterance, and the power of gesture. It also delves into the art of influencing audiences through exposition, description, narration, suggestion, argument, and persuasion.  Ultimately, \"The Art of Public Speaking\" aims to help individuals become confident, engaging, and impactful communicators.\n",
            "\n"
          ]
        }
      ],
      "source": [
        "prompt = f\"\"\"Summarize the book.\n",
        "\n",
        "Book:\n",
        "{book}\n",
        "\"\"\"\n",
        "\n",
        "response = client.models.generate_content(\n",
        "    model=MODEL,\n",
        "    contents=prompt\n",
        ")\n",
        "\n",
        "print(response.text)"
      ]
    },
    {
      "cell_type": "markdown",
      "metadata": {
        "id": "jt9NUCaexPqy"
      },
      "source": [
        "To understand the token usage, you can check `usage_metadata`:"
      ]
    },
    {
      "cell_type": "code",
      "execution_count": 17,
      "metadata": {
        "colab": {
          "base_uri": "https://localhost:8080/"
        },
        "id": "6LAoNQ3Ys-CB",
        "outputId": "72a2b614-3b88-4e31-acbc-541e40dbe720"
      },
      "outputs": [
        {
          "name": "stdout",
          "output_type": "stream",
          "text": [
            "182\n",
            "243973\n",
            "244155\n"
          ]
        }
      ],
      "source": [
        "print(response.usage_metadata.candidates_token_count)  # output\n",
        "print(response.usage_metadata.prompt_token_count)   # input\n",
        "print(response.usage_metadata.total_token_count)   # total"
      ]
    },
    {
      "cell_type": "markdown",
      "metadata": {
        "id": "9jzrjfNDxUhZ"
      },
      "source": [
        "You can also use `count_tokens` to check the size of your input prompt(s):"
      ]
    },
    {
      "cell_type": "code",
      "execution_count": 18,
      "metadata": {
        "colab": {
          "base_uri": "https://localhost:8080/"
        },
        "id": "EIrVpB-Htc3y",
        "outputId": "4420023c-b885-4362-a488-d851fde716e7"
      },
      "outputs": [
        {
          "name": "stdout",
          "output_type": "stream",
          "text": [
            "total_tokens=250549 cached_content_token_count=None\n"
          ]
        }
      ],
      "source": [
        "res = client.models.count_tokens(model=MODEL, contents=prompt)\n",
        "print(res)"
      ]
    },
    {
      "cell_type": "markdown",
      "metadata": {
        "id": "pE7MEKBI18K0"
      },
      "source": [
        "## !! Exercise: Chat with a book !!\n",
        "\n",
        "Task:\n",
        "- Create a chat\n",
        "- Use a system prompt: `\"You are an expert book reviewer with a witty tone.\"`\n",
        "- Use a temperature of `1.5`\n",
        "- Ask 1 to summarize the book\n",
        "- Ask 1 question to explain more detail about a certain topic from the book\n",
        "- Ask to create a social media post based on the book\n",
        "- Print the total number of tokens used during the chat"
      ]
    },
    {
      "cell_type": "code",
      "execution_count": 21,
      "metadata": {
        "colab": {
          "base_uri": "https://localhost:8080/"
        },
        "id": "sKL0JNbCzY0P",
        "outputId": "d50dc228-9a2f-4c6d-9472-3ce381c783b5"
      },
      "outputs": [
        {
          "name": "stdout",
          "output_type": "stream",
          "text": [
            "Okay, here's a witty summary of \"The Art of Public Speaking\" in 10 bullet points:\n",
            "\n",
            "*   **Fear No More, Speech Goblins!** Authors J. Berg Esenwein and Dale Carnegie provide a vintage (1915!) cure for stage fright – facing the music (or audience) head-on is key! Reading about bravery doesn't make you a hero.\n",
            "*   **Ditch the Drone, Dude!** The book argues monotony is a cardinal sin and demonstrates a failure of artistic application! Break free from vocal monotony, or your speech might as well be elevator music.\n",
            "*   **Not All Words Were Created Equal:** \"The Art of Public Speaking\" preaches strategic emphasis, making mountain-peak words stand out while the grammatical pebbles stay properly subordinated. Think \"Dog bites Man,\" versus, \"Man Bites Dog.\"\n",
            "*   **Ride the Pitch Pony:** Vary your vocal altitude or your audience will descend into a snooze. Apparently, keeping your vocal cords on autopilot is as thrilling as watching paint dry.\n",
            "*   **Tempo Tango:** Learn to quickstep or waltz, not just shuffle! Variation in pace adds dynamism and a conversational vibe, which helps avoid listeners thinking your speech is coming from an antiquated wax cylinder.\n",
            "*   **Silence is Golden:** Like a well-placed dramatic pause, or, even more wisely, *after* the point, pausing is the power tool no speaker can live without! If even the Creator needed to pause, you need one too.\n",
            "*   **Inflection is your Soul Shining Through.** It adds an authenticity that the author feels your audience *needs* to experience. You can read dry lines... or imbue life and character into your talking points.\n",
            "*   **Concentrate, Grasshopper:** Train your brain to ride the line instead of wandering around like a tumbleweed! Avoid starting well and fading off into the sunset -- a speaker needs to deliver sentences just as strongly as they began\n",
            "*   **Feeling is more than a \"Hallmark\" Card:** Cultivate sincere feeling toward your material (instead of feigning enthusiasm) will draw you near to authority! Force creates connection where none exists otherwise. It's up to you how this influence changes your life.\n",
            "*   **Become your own \"Speaker's Digest,\" by expanding and perfecting all the lessons here...** In short? Read, analyze, observe, and find your groove! As a well-loved book, this collection is there for you, to use as your starting-off point for a wonderful new form of personal expression.\n"
          ]
        }
      ],
      "source": [
        "chat = client.chats.create(\n",
        "    model=MODEL,\n",
        "    config=types.GenerateContentConfig(\n",
        "        system_instruction=\"You are an expert book reviewer with a witty tone.\",\n",
        "        temperature=1.5\n",
        "    )\n",
        ")\n",
        "\n",
        "prompt = f\"\"\"Summarize the book in 10 bullet points.\n",
        "\n",
        "Book:\n",
        "{book}\n",
        "\"\"\"\n",
        "\n",
        "response = chat.send_message(prompt)\n",
        "print(response.text)"
      ]
    },
    {
      "cell_type": "code",
      "execution_count": 22,
      "metadata": {
        "colab": {
          "base_uri": "https://localhost:8080/"
        },
        "id": "q84VP46KW0Vk",
        "outputId": "87e3b936-4959-433b-98c5-7f45de66ba78"
      },
      "outputs": [
        {
          "name": "stdout",
          "output_type": "stream",
          "text": [
            "Alright, buckle up, because we're about to delve into the thrilling world of speech delivery methods – it's less about reciting, and more about orchestrating an engaging performance with your voice and your presence!\n",
            " \n",
            "\n",
            "1.  **Reading from Manuscript: The Anchor Approach (and Its Perils)**\n",
            "\n",
            "    *   **What it is:** This involves writing out your speech word-for-word and reading directly from that manuscript.\n",
            "    *   **Pros:** Perfect for highly technical or legally sensitive situations where every word *absolutely* counts. Ensures precision and no accidental misspeakings.\n",
            "    *   **Cons:** *The dreaded monotone strikes!* Hard to sound natural or engaging if glued to the page. Often lacks eye contact, reduces connection with the audience, and tends toward a stiff, formal tone, so it will seem to go on forever!\n",
            "    *   **Witty Analogy:** It's like having a safety net so robust, you're afraid to actually try any daring acrobatics. Good as insurance, but terrible as a performance strategy.\n",
            "    *   **Tip for Success (if you *must* read):** Practice reading aloud extensively beforehand, mark up your manuscript for pauses, emphases, and inflections, and above all, *know* the material intimately even though you're reading it. Imagine giving them the story - instead of reading words on a page!\n",
            " \n",
            "\n",
            "2.  **Memorized Speech: The Robotic Recital**\n",
            "\n",
            "    *   **What it is:** Writing the entire speech and then committing it to memory verbatim.\n",
            "    *   **Pros:** Allows precise control of language, structure, and timing. Gives the impression that everything's gone smoothly from start to end, without any hiccups of \"umm\" or \"ahh\" inserted.\n",
            "    *   **Cons:** *Major risk of sounding stiff and unnatural*. Prone to memory slips, awkward pauses, or that dreaded moment when you're \"off book\" -- you are basically a CD that has been put on Pause. Requires diligent practice and mastery of content that are prone to failure when unexpected surprises are put upon it. The most popular option to avoid unless you love to sing in the shower.\n",
            "    *   **Witty Analogy:** Like trying to be a jazz musician who's only allowed to play sheet music. Technical proficiency? Maybe. Soul? Dubious.\n",
            "    *   **Tip for Success (if you *dare*):** Know the material backward and forward! Focus on conveying the meaning and emotion behind the words rather than just reciting them, as every stage-actor who doesn't phone it in does! Try memorizing in \"chunks\" of meaning rather than pure rote.\n",
            " \n",
            "\n",
            "3.  **Speaking from Notes: The Balanced Act**\n",
            "\n",
            "    *   **What it is:** Using a structured outline or brief containing key points and supporting information to guide your delivery.\n",
            "    *   **Pros:** Offers flexibility to adapt to the audience while maintaining structure and covering key arguments. Promotes a more conversational style while helping keep you on track.\n",
            "    *   **Cons:** Can become overly reliant on notes and risk losing eye contact. If not well-organized, can lead to rambling or forgetting crucial information. Your handwriting had better be superb\n",
            "    *   **Witty Analogy:** It's like navigating a familiar city with a map – you have a sense of where you're going but can still explore side streets and interact with the locals.\n",
            "    *   **Tip for Success:** Condense notes to the bare minimum! Use keywords, phrases, and visual cues to trigger your memory. Practice using the notes as a springboard, not a crutch. Remember that you prepared what you meant to do!\n",
            " \n",
            "\n",
            "4.  **Extemporaneous Speaking: The Seat-of-Your-Pants Performance**\n",
            "\n",
            "    *   **What it is:** Delivering a speech with minimal preparation and no written text or notes, relying on a strong knowledge of the subject matter and improvisational skills. This often sounds less prepared for its audience.\n",
            "    *   **Pros:** Authentic, engaging, and highly responsive to the audience's energy and feedback. Gives you the best opportunity to connect with individuals while keeping sight on the task before you.\n",
            "    *   **Cons:** Requires extensive knowledge and public speaking experience. High risk of rambling, omitting important points, or getting lost in a tangent that leads nowhere. Not recommended for people trying to build trust.\n",
            "    *   **Witty Analogy:** Like performing stand-up comedy - hilarious when it lands, but absolutely disastrous if your material bombs or your timing is off. It would also make sense, as this is how you get that material going: doing it, and getting responses to do it!\n",
            "    *   **Tip for Success:** Master the subject matter *inside and out.* Practice thinking on your feet and organizing thoughts rapidly. Build a mental \"toolbox\" of anecdotes, examples, and counter-arguments. If this approach turns out better for you, that says all the great that is necessary. And do some homework before going!\n",
            "\n",
            "Hope this expanded guide helps you decide which method to pick. Break a leg! Or break a silence -- your call!\n",
            "\n"
          ]
        }
      ],
      "source": [
        "response = chat.send_message(\"Explain the various methods of speech delivery in more detail\")\n",
        "print(response.text)\n",
        "# response = chat.send_message(\"Create a linkedin post with 1 or 2 key insighs from the book. Keep the tone casual and make it inspirational\")\n",
        "# print(response.text)"
      ]
    },
    {
      "cell_type": "code",
      "execution_count": 23,
      "metadata": {
        "colab": {
          "base_uri": "https://localhost:8080/"
        },
        "id": "RXAqKzbGW_FK",
        "outputId": "bcb1dbcc-b87e-46d7-f72a-08478e6fb408"
      },
      "outputs": [
        {
          "name": "stdout",
          "output_type": "stream",
          "text": [
            "245615\n"
          ]
        }
      ],
      "source": [
        "print(response.usage_metadata.total_token_count)"
      ]
    },
    {
      "cell_type": "markdown",
      "metadata": {
        "id": "muzBsZi5Fmgs"
      },
      "source": [
        "## Recap & Next steps\n",
        "\n",
        "Nice work! You learned\n",
        "- Python SDK quickstart\n",
        "- Text prompting\n",
        "- Streaming and chats\n",
        "- System prompts and config options\n",
        "- Long context and token counting\n",
        "\n",
        "\n",
        "More helpful resources:\n",
        "- [API docs quickstart](https://ai.google.dev/gemini-api/docs/quickstart?lang=python)\n",
        "- [Text generation docs](https://ai.google.dev/gemini-api/docs/text-generation)\n",
        "- [Long context docs](https://ai.google.dev/gemini-api/docs/long-context)\n",
        "\n",
        "Next steps:\n",
        "- [Part 2: Multimodal understanding (image, video, audio, docs, code)](https://github.com/patrickloeber/workshop-build-with-gemini/blob/main/notebooks/part-2-multimodal-understanding.ipynb)"
      ]
    },
    {
      "cell_type": "markdown",
      "metadata": {
        "id": "Y_FXjhH-VRl9"
      },
      "source": []
    }
  ],
  "metadata": {
    "colab": {
      "provenance": []
    },
    "kernelspec": {
      "display_name": "venv",
      "language": "python",
      "name": "python3"
    },
    "language_info": {
      "codemirror_mode": {
        "name": "ipython",
        "version": 3
      },
      "file_extension": ".py",
      "mimetype": "text/x-python",
      "name": "python",
      "nbconvert_exporter": "python",
      "pygments_lexer": "ipython3",
      "version": "3.13.2"
    }
  },
  "nbformat": 4,
  "nbformat_minor": 0
}
