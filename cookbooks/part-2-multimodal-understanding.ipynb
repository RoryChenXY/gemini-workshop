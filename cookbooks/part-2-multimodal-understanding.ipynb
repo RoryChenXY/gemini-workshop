{
  "cells": [
    {
      "cell_type": "markdown",
      "source": [
        "# Workshop: Build with Gemini (Part 2)\n",
        "\n",
        "<a target=\"_blank\" href=\"https://colab.research.google.com/github/patrickloeber/workshop-build-with-gemini/blob/main/notebooks/part-2-multimodal-understanding.ipynb\"><img src=\"https://colab.research.google.com/assets/colab-badge.svg\" alt=\"Open In Colab\"/></a>\n",
        "\n",
        "This workshop teaches how to build with Gemini using the Gemini API and Python SDK.\n",
        "\n",
        "Course outline:\n",
        "\n",
        "- **Part1: Quickstart + Text prompting**\n",
        "\n",
        "- **Part 2 (this notebook): Multimodal understanding (image, video, audio, docs, code)**\n",
        "  - Image\n",
        "  - Video\n",
        "  - Audio\n",
        "  - Documents (PDFs)\n",
        "  - Code\n",
        "  - Final excercise: Analyze supermarket invoice\n",
        "\n",
        "- **Part 3: Thinking models + agentic capabilities (tool usage)**"
      ],
      "metadata": {
        "id": "-4sy2g5g5h50"
      }
    },
    {
      "cell_type": "markdown",
      "source": [
        "## 0. Use the Google AI Studio as playground\n",
        "\n",
        "Explore and play with all models in the [Google AI Studio](https://aistudio.google.com/apikey)."
      ],
      "metadata": {
        "id": "enN0SFUq5_mo"
      }
    },
    {
      "cell_type": "markdown",
      "source": [
        "## 1. Setup\n",
        "\n",
        "Get a free API key in the [Google AI Studio](https://aistudio.google.com/apikey) and set up the [Google Gen AI Python SDK](https://github.com/googleapis/python-genai)"
      ],
      "metadata": {
        "id": "fJjFsaSg6EoF"
      }
    },
    {
      "cell_type": "code",
      "execution_count": null,
      "metadata": {
        "id": "7SzjZdf7mwD_"
      },
      "outputs": [],
      "source": [
        "%pip install -U -q google-genai"
      ]
    },
    {
      "cell_type": "code",
      "execution_count": null,
      "metadata": {
        "id": "BF3gXZyFm3Pf"
      },
      "outputs": [],
      "source": [
        "from google.colab import userdata\n",
        "\n",
        "GOOGLE_API_KEY=userdata.get('GOOGLE_API_KEY')"
      ]
    },
    {
      "cell_type": "code",
      "execution_count": null,
      "metadata": {
        "id": "0lajO_7dnFya"
      },
      "outputs": [],
      "source": [
        "from google import genai\n",
        "from google.genai import types\n",
        "\n",
        "client = genai.Client(api_key=GOOGLE_API_KEY)"
      ]
    },
    {
      "cell_type": "code",
      "source": [
        "MODEL = \"gemini-2.0-flash\""
      ],
      "metadata": {
        "id": "hsLIkbX1dK-v"
      },
      "execution_count": null,
      "outputs": []
    },
    {
      "cell_type": "markdown",
      "source": [
        "## Image understanding\n",
        "\n",
        "Gemini models are able to process and understand images, e.g., you can use Gemini to describe, caption, and answer questions about images, and you can even use it for object detection."
      ],
      "metadata": {
        "id": "P-qkPEabTURX"
      }
    },
    {
      "cell_type": "code",
      "source": [
        "!curl -o image.jpg \"https://storage.googleapis.com/generativeai-downloads/images/Cupcakes.jpg\""
      ],
      "metadata": {
        "id": "RXRNfCtATTNG"
      },
      "execution_count": null,
      "outputs": []
    },
    {
      "cell_type": "code",
      "source": [
        "from PIL import Image\n",
        "image = Image.open(\"image.jpg\")\n",
        "print(image.size)\n",
        "image"
      ],
      "metadata": {
        "id": "ZsnYkEF2Tcm8"
      },
      "execution_count": null,
      "outputs": []
    },
    {
      "cell_type": "markdown",
      "source": [
        "For total image payload size less than 20MB, we recommend either uploading base64 encoded images or directly uploading locally stored image files.\n",
        "\n",
        "You can use a Pillow image in your prompt:"
      ],
      "metadata": {
        "id": "FEVFI9_N7wGJ"
      }
    },
    {
      "cell_type": "code",
      "source": [
        "# TODO"
      ],
      "metadata": {
        "id": "A5d73cjXTmen"
      },
      "execution_count": null,
      "outputs": []
    },
    {
      "cell_type": "markdown",
      "source": [
        "Or you can use base64 encoded images"
      ],
      "metadata": {
        "id": "1UqzcAnEb31e"
      }
    },
    {
      "cell_type": "code",
      "source": [
        "import requests\n",
        "\n",
        "res = requests.get(\"https://storage.googleapis.com/generativeai-downloads/images/Cupcakes.jpg\")\n",
        "\n",
        "# TODO"
      ],
      "metadata": {
        "id": "de7qYAgWbMUQ"
      },
      "execution_count": null,
      "outputs": []
    },
    {
      "cell_type": "markdown",
      "source": [
        "You can use the File API for large payloads (>20MB).\n",
        "\n",
        " The File API lets you store up to 20 GB of files per project, with a per-file maximum size of 2 GB. Files are stored for 48 hours. They can be accessed in that period with your API key, but cannot be downloaded from the API. It is available at no cost in all regions where the Gemini API is available."
      ],
      "metadata": {
        "id": "5KaTPCZ0c4QN"
      }
    },
    {
      "cell_type": "code",
      "source": [
        "# TODO"
      ],
      "metadata": {
        "id": "uqXFR3a4cgV7"
      },
      "execution_count": null,
      "outputs": []
    },
    {
      "cell_type": "markdown",
      "source": [
        "#### Bounding box\n",
        "\n",
        "Gemini models are trained to return bounding box coordinates.\n",
        "\n",
        "**Important**: Gemini returns bounding box coordinates in this format:\n",
        "\n",
        "- `[y_min, x_min, y_max, x_max]`\n",
        "- and normalized to `[0,1000]`\n",
        "\n",
        "**Tip**: Ask Gemini to return JSON format and configure `config={'response_mime_type': 'application/json'}`:"
      ],
      "metadata": {
        "id": "oQMyViVxe9Tg"
      }
    },
    {
      "cell_type": "code",
      "source": [
        "# TODO\n",
        "bboxes = ..."
      ],
      "metadata": {
        "id": "I-8OzBbNe8k-"
      },
      "execution_count": null,
      "outputs": []
    },
    {
      "cell_type": "markdown",
      "source": [
        "Create a helper function to denormalize and draw the bounding boxes:\n",
        "\n"
      ],
      "metadata": {
        "id": "F5qAcdB08pCG"
      }
    },
    {
      "cell_type": "code",
      "source": [
        "from PIL import ImageDraw, ImageFont\n",
        "\n",
        "line_width = 4\n",
        "font = ImageFont.load_default(size=16)\n",
        "\n",
        "labels = list(set(box['label'] for box in bboxes))\n",
        "\n",
        "def draw_bounding_boxes(image, bounding_boxes):\n",
        "    img = image.copy()\n",
        "    width, height = img.size\n",
        "\n",
        "    draw = ImageDraw.Draw(img)\n",
        "\n",
        "    colors = ['blue','red','green','yellow','orange','pink','purple']\n",
        "\n",
        "    for box in bounding_boxes:\n",
        "        y_min, x_min, y_max, x_max = box['box_2d']\n",
        "        label = box['label']\n",
        "\n",
        "        # Convert normalized coordinates to absolute coordinates\n",
        "        y_min = int(y_min/1000 * height)\n",
        "        x_min = int(x_min/1000 * width)\n",
        "        y_max = int(y_max/1000 * height)\n",
        "        x_max = int(x_max/1000 * width)\n",
        "\n",
        "        color = colors[labels.index(label) % len(colors)]\n",
        "        draw.rectangle([(x_min, y_min), (x_max, y_max)], outline=color, width=line_width)\n",
        "\n",
        "        draw.text((x_min+line_width, y_min), label, fill=color, font=font)\n",
        "\n",
        "    display(img)\n",
        "\n",
        "draw_bounding_boxes(image, bboxes)"
      ],
      "metadata": {
        "id": "rAnDqBtugriS"
      },
      "execution_count": null,
      "outputs": []
    },
    {
      "cell_type": "markdown",
      "source": [
        "## Video\n",
        "\n",
        "Gemini models are able to process videos. The 1M context window support up to approximately an hour of video data.\n",
        "\n",
        "For technical details about supported video formats, see [the docs](https://ai.google.dev/gemini-api/docs/vision#technical-details-video)."
      ],
      "metadata": {
        "id": "Cqw5dRKLiWV8"
      }
    },
    {
      "cell_type": "code",
      "source": [
        "!wget https://storage.googleapis.com/generativeai-downloads/videos/post_its.mp4 -O Post_its.mp4 -q"
      ],
      "metadata": {
        "id": "csJLQl-IiX4R"
      },
      "execution_count": null,
      "outputs": []
    },
    {
      "cell_type": "markdown",
      "source": [
        "Use the File API to upload a video. Here we also check the processing state:"
      ],
      "metadata": {
        "id": "Lxg-yOOs9uV5"
      }
    },
    {
      "cell_type": "code",
      "source": [
        "import time\n",
        "\n",
        "def upload_video(video_file_name):\n",
        "  video_file = client.files.upload(file=video_file_name)\n",
        "\n",
        "  while video_file.state == \"PROCESSING\":\n",
        "      print('Waiting for video to be processed.')\n",
        "      time.sleep(10)\n",
        "      video_file = client.files.get(name=video_file.name)\n",
        "\n",
        "  if video_file.state == \"FAILED\":\n",
        "    raise ValueError(video_file.state)\n",
        "\n",
        "  print(f'Video processing complete: ' + video_file.uri)\n",
        "  return video_file\n",
        "\n",
        "post_its_video = upload_video('Post_its.mp4')"
      ],
      "metadata": {
        "id": "cR8WEJBHieiA"
      },
      "execution_count": null,
      "outputs": []
    },
    {
      "cell_type": "markdown",
      "source": [
        "Now you can use the uploaded file in your prompt:"
      ],
      "metadata": {
        "id": "t5B3xCns93gL"
      }
    },
    {
      "cell_type": "code",
      "source": [
        "# TODO"
      ],
      "metadata": {
        "id": "Yx_TCe2Oih0n"
      },
      "execution_count": null,
      "outputs": []
    },
    {
      "cell_type": "markdown",
      "source": [
        "#### YouTube video support\n",
        "\n",
        "The Gemini API and AI Studio support YouTube URLs as a file data Part. You can include a YouTube URL with a prompt asking the model to summarize, translate, or otherwise interact with the video content."
      ],
      "metadata": {
        "id": "o-DPmMBdlQdl"
      }
    },
    {
      "cell_type": "code",
      "source": [
        "# TODO"
      ],
      "metadata": {
        "id": "bDoX9Szrjsc_"
      },
      "execution_count": null,
      "outputs": []
    },
    {
      "cell_type": "markdown",
      "metadata": {
        "id": "oPGJ6kxSoL7O"
      },
      "source": [
        "## Audio\n",
        "\n",
        "You can use Gemini to process audio files. For example, you can use it to generate a transcript of an audio file or to summarize the content of an audio file.\n",
        "\n",
        "Gemini represents each second of audio as 32 tokens; for example, one minute of audio is represented as 1,920 tokens.\n",
        "\n",
        "For more info about technical details and supported formats, see [the docs](https://ai.google.dev/gemini-api/docs/audio#supported-formats)."
      ]
    },
    {
      "cell_type": "code",
      "execution_count": null,
      "metadata": {
        "id": "RFtpKexFnleG"
      },
      "outputs": [],
      "source": [
        "URL = \"https://storage.googleapis.com/generativeai-downloads/data/jeff-dean-presentation.mp3\"\n",
        "!wget -q $URL -O sample.mp3"
      ]
    },
    {
      "cell_type": "code",
      "execution_count": null,
      "metadata": {
        "id": "zHwv_ykGWhRP"
      },
      "outputs": [],
      "source": [
        "import IPython\n",
        "IPython.display.Audio(\"sample.mp3\")"
      ]
    },
    {
      "cell_type": "code",
      "source": [
        "# TODO"
      ],
      "metadata": {
        "id": "LjH3mI_2lwpm"
      },
      "execution_count": null,
      "outputs": []
    },
    {
      "cell_type": "markdown",
      "source": [
        "1 minute audio = ~130 words or ~170 tokens\n",
        "8192 / 170 = ~48 min output length.\n",
        "\n",
        "You can use Gemini for transcribing, but be aware of the output token limit.\n",
        "\n",
        "We can use `pydub` to split the audio file:"
      ],
      "metadata": {
        "id": "F6ScOLTfVNx-"
      }
    },
    {
      "cell_type": "code",
      "source": [
        "%pip install pydub"
      ],
      "metadata": {
        "id": "e7kLjGpPWcj7"
      },
      "execution_count": null,
      "outputs": []
    },
    {
      "cell_type": "code",
      "source": [
        "from pydub import AudioSegment\n",
        "audio = AudioSegment.from_mp3(\"sample.mp3\")\n",
        "duration = 60 * 1000  # pydub works in milliseconds\n",
        "audio_clip = audio[:duration]"
      ],
      "metadata": {
        "id": "6BqVJQdZWbW2"
      },
      "execution_count": null,
      "outputs": []
    },
    {
      "cell_type": "code",
      "source": [
        "audio_clip"
      ],
      "metadata": {
        "id": "k3AT-dTRW9NX"
      },
      "execution_count": null,
      "outputs": []
    },
    {
      "cell_type": "code",
      "source": [
        "import io\n",
        "buffer = io.BytesIO()\n",
        "audio_clip.export(buffer, format=\"mp3\")\n",
        "\n",
        "audio_bytes = buffer.read()"
      ],
      "metadata": {
        "id": "3m87bU5vb3pq"
      },
      "execution_count": null,
      "outputs": []
    },
    {
      "cell_type": "markdown",
      "source": [
        "For files below 20 MB, you can provide the audio file directly as inline data in your request.\n",
        "\n",
        "To do this, use `types.Part.from_bytes` and add it to the `contents` argument when calling `generate_content()`:"
      ],
      "metadata": {
        "id": "wqyVx14lUSOS"
      }
    },
    {
      "cell_type": "code",
      "execution_count": null,
      "metadata": {
        "id": "pFAZ0JslS73Q"
      },
      "outputs": [],
      "source": [
        "# TODO"
      ]
    },
    {
      "cell_type": "markdown",
      "source": [
        "Let's use a format that's easier to understand:"
      ],
      "metadata": {
        "id": "Z2d9xevDVB1r"
      }
    },
    {
      "cell_type": "code",
      "source": [
        "# TODO"
      ],
      "metadata": {
        "id": "_BVR0YxKavVw"
      },
      "execution_count": null,
      "outputs": []
    },
    {
      "cell_type": "markdown",
      "metadata": {
        "id": "78hhvMuLvEkG"
      },
      "source": [
        "Another useful prompt you can try with audio files:\n",
        "- Refer to timestamps: `Provide a transcript of the speech from 02:30 to 03:29.`"
      ]
    },
    {
      "cell_type": "markdown",
      "metadata": {
        "id": "curIC8c7qCYh"
      },
      "source": [
        "## PDFs\n",
        "\n",
        "PDFs can also be used in the same way:"
      ]
    },
    {
      "cell_type": "code",
      "execution_count": null,
      "metadata": {
        "id": "CKKjFWWtpkUr"
      },
      "outputs": [],
      "source": [
        "URL = \"https://storage.googleapis.com/generativeai-downloads/data/pdf_structured_outputs/invoice.pdf\"\n",
        "!wget -q $URL -O invoice.pdf"
      ]
    },
    {
      "cell_type": "code",
      "execution_count": null,
      "metadata": {
        "id": "PEeoY6nyqfql"
      },
      "outputs": [],
      "source": [
        "# TODO"
      ]
    },
    {
      "cell_type": "code",
      "source": [
        "# TODO, count tokens"
      ],
      "metadata": {
        "id": "PakfSabcmy0L"
      },
      "execution_count": null,
      "outputs": []
    },
    {
      "cell_type": "markdown",
      "metadata": {
        "id": "fTCYwaY4uiSA"
      },
      "source": [
        "**Next step**: A cool feature I recommend is to combine it with structured outputs using Pydantic."
      ]
    },
    {
      "cell_type": "code",
      "source": [
        "# TODO"
      ],
      "metadata": {
        "id": "SckDEY7hnbbP"
      },
      "execution_count": null,
      "outputs": []
    },
    {
      "cell_type": "code",
      "source": [
        "response.parsed.model_dump()"
      ],
      "metadata": {
        "id": "8miXBdbFYBeg"
      },
      "execution_count": null,
      "outputs": []
    },
    {
      "cell_type": "markdown",
      "source": [
        "## Code\n",
        "\n",
        "Gemini is good at understanding and generating code.\n",
        "\n",
        "Let's use [gitingest](https://github.com/cyclotruc/gitingest) to chat with a GitHub repo:"
      ],
      "metadata": {
        "id": "7mBgXG1p-pF1"
      }
    },
    {
      "cell_type": "code",
      "source": [
        "%pip install gitingest"
      ],
      "metadata": {
        "id": "zA2XH9Jf-qja"
      },
      "execution_count": null,
      "outputs": []
    },
    {
      "cell_type": "code",
      "source": [
        "from gitingest import ingest_async\n",
        "\n",
        "summary, tree, content = await ingest_async(\"https://github.com/patrickloeber/snake-ai-pytorch\")"
      ],
      "metadata": {
        "id": "6C1uQK2_71I_"
      },
      "execution_count": null,
      "outputs": []
    },
    {
      "cell_type": "code",
      "source": [
        "print(summary)"
      ],
      "metadata": {
        "id": "ubjz-HhZBia6"
      },
      "execution_count": null,
      "outputs": []
    },
    {
      "cell_type": "code",
      "source": [
        "print(tree)"
      ],
      "metadata": {
        "id": "v8lNYVU9CPMk"
      },
      "execution_count": null,
      "outputs": []
    },
    {
      "cell_type": "code",
      "source": [
        "# TODO"
      ],
      "metadata": {
        "id": "heedUewH_M3r"
      },
      "execution_count": null,
      "outputs": []
    },
    {
      "cell_type": "markdown",
      "source": [
        "## Exercise: Analyze supermarket invoice\n",
        "\n",
        "Task:\n",
        "- Define a schema for a single item that contains `item_name` and `item_cost`\n",
        "- Define a schema for the supermarket invoice with `items`, `date`, and `total_cost`\n",
        "- Use Gemini to extract all info from the supermarket bill into the defined supermarket invoice schema.\n",
        "- Ask Gemini to list a few healthy recipes based on the items. If you have dietary restrictions, tell Gemini about it!"
      ],
      "metadata": {
        "id": "0Cd1QIZObj6P"
      }
    },
    {
      "cell_type": "code",
      "source": [
        "import requests\n",
        "url = 'https://raw.githubusercontent.com/patrickloeber/workshop-build-with-gemini/main/data/rewe_invoice.pdf'\n",
        "res = requests.get(url)\n",
        "with open(\"rewe_invoice.pdf\", \"wb\") as f:\n",
        "    f.write(res.content)"
      ],
      "metadata": {
        "id": "nto6Tj4wevTt"
      },
      "execution_count": null,
      "outputs": []
    },
    {
      "cell_type": "code",
      "source": [
        "rewe_pdf = client.files.upload(file='rewe_invoice.pdf')"
      ],
      "metadata": {
        "id": "e5ds7SSWo6xp"
      },
      "execution_count": null,
      "outputs": []
    },
    {
      "cell_type": "code",
      "source": [
        "# TODO"
      ],
      "metadata": {
        "id": "d9-Jvx58peg7"
      },
      "execution_count": null,
      "outputs": []
    },
    {
      "cell_type": "markdown",
      "metadata": {
        "id": "EO-TUwbiIHu5"
      },
      "source": [
        "## Recap & Next steps\n",
        "\n",
        "Gemini's multimodal capabilities are powerful, and with the Python SDK you only need a few lines of code to process various media types, including text, audio, images, videos, and PDFs.\n",
        "\n",
        "For many use cases, it's helpful to constrain Gemini to respond with JSON using structured outputs.\n",
        "\n",
        "More helpful resources:\n",
        "\n",
        "- [Audio understanding docs](https://ai.google.dev/gemini-api/docs/audio?lang=python)\n",
        "- [Visio understanding docs](https://ai.google.dev/gemini-api/docs/vision?lang=python)\n",
        "- [Philschmid blog post: From PDFs to Insights](https://www.philschmid.de/gemini-pdf-to-data)\n",
        "- [Structured output docs](https://ai.google.dev/gemini-api/docs/structured-output?lang=python)\n",
        "- [Video understanding cookbook](https://github.com/google-gemini/cookbook/blob/main/quickstarts/Video_understanding.ipynb)\n",
        "\n",
        "Next steps:\n",
        "- Part 3: Thinking models + agentic capabilities (tool usage)\n"
      ]
    }
  ],
  "metadata": {
    "colab": {
      "provenance": []
    },
    "kernelspec": {
      "display_name": "Python 3",
      "name": "python3"
    },
    "language_info": {
      "name": "python"
    }
  },
  "nbformat": 4,
  "nbformat_minor": 0
}